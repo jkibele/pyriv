{
 "cells": [
  {
   "cell_type": "code",
   "execution_count": 1,
   "metadata": {},
   "outputs": [
    {
     "name": "stdout",
     "output_type": "stream",
     "text": [
      "Populating the interactive namespace from numpy and matplotlib\n"
     ]
    }
   ],
   "source": [
    "%pylab inline"
   ]
  },
  {
   "cell_type": "markdown",
   "metadata": {},
   "source": [
    "# River Distance\n",
    "\n",
    "I've written a couple of Python modules to extend the capabilities of `networkx.DiGraph` to help with navigating river networks in the NHD. This notebook will demonstrate their use in building a network graph, and finding the shortest river path to the ocean from a given point."
   ]
  },
  {
   "cell_type": "code",
   "execution_count": 2,
   "metadata": {
    "collapsed": true
   },
   "outputs": [],
   "source": [
    "from graph_prep import GraphBuilder\n",
    "from river_graph import RiverGraph"
   ]
  },
  {
   "cell_type": "markdown",
   "metadata": {},
   "source": [
    "## Preparing a River Graph from an NHD Shapefile\n",
    "\n",
    "First, read the shapefile into a `graph_prep.GraphBuilder` object."
   ]
  },
  {
   "cell_type": "code",
   "execution_count": 3,
   "metadata": {},
   "outputs": [
    {
     "name": "stdout",
     "output_type": "stream",
     "text": [
      "CPU times: user 32.7 s, sys: 1.32 s, total: 34 s\n",
      "Wall time: 34.1 s\n"
     ]
    }
   ],
   "source": [
    "%%time\n",
    "gb = GraphBuilder('data/kusko_flowlines.shp')"
   ]
  },
  {
   "cell_type": "markdown",
   "metadata": {},
   "source": [
    "This is what that looks like:\n",
    "\n",
    "<img src=\"images/all_HUC_lines.png\" width=\"400px\" />"
   ]
  },
  {
   "cell_type": "markdown",
   "metadata": {},
   "source": [
    "Prune off the parts of the network that are not connected to the coastline. This is done by breaking the graph into weakly connected component subgraphs, and only keeping the subgraphs which contain coastal nodes. Coastal nodes are nodes connected to at least one edge that is attributed with the [NHD FCode for coastline](https://nhd.usgs.gov/userGuide/Robohelpfiles/NHD_User_Guide/Feature_Catalog/Hydrography_Dataset/Complete_FCode_List.htm) ($56600$)."
   ]
  },
  {
   "cell_type": "code",
   "execution_count": 4,
   "metadata": {},
   "outputs": [
    {
     "name": "stdout",
     "output_type": "stream",
     "text": [
      "47 graphs with coastal nodes, 4898 without.\n",
      "CPU times: user 3min 13s, sys: 6.7 s, total: 3min 20s\n",
      "Wall time: 3min 20s\n"
     ]
    }
   ],
   "source": [
    "%%time\n",
    "gb.graph = gb.prune_network(True)"
   ]
  },
  {
   "cell_type": "markdown",
   "metadata": {},
   "source": [
    "Now with fewer rivers:\n",
    "\n",
    "<img src=\"images/pruned_HUC_lines.png\" width=\"400px\" />"
   ]
  },
  {
   "cell_type": "markdown",
   "metadata": {},
   "source": [
    "Now save the graph so that it can be loaded again without having to convert the shapefile and do the pruning. "
   ]
  },
  {
   "cell_type": "code",
   "execution_count": 6,
   "metadata": {
    "collapsed": true
   },
   "outputs": [],
   "source": [
    "# gb.write_gpickle('data/kusko_pruned.pkl')"
   ]
  },
  {
   "cell_type": "markdown",
   "metadata": {},
   "source": [
    "Loading pickles doesn't seem to be working. The loaded graph is behaving as though it were not a directed graph. More testing required.\n",
    "\n",
    "~~The saved file can now be loaded using the `GraphBuilder` class:~~ \n",
    "\n",
    "```python\n",
    "gb = GraphBuilder('data/kusko_pruned.pkl')\n",
    "```\n",
    "\n",
    "<sub>Note: If you're using a customized application with a different FCode, you'll have to set that FCode again when you load the object.</sub>"
   ]
  },
  {
   "cell_type": "markdown",
   "metadata": {},
   "source": [
    "## Using the RiverGraph to find paths\n",
    "\n",
    "First, I'll load a shapefile of test start points."
   ]
  },
  {
   "cell_type": "code",
   "execution_count": 7,
   "metadata": {
    "collapsed": true
   },
   "outputs": [],
   "source": [
    "import geopandas as gpd"
   ]
  },
  {
   "cell_type": "code",
   "execution_count": 8,
   "metadata": {
    "collapsed": true
   },
   "outputs": [],
   "source": [
    "starts = gpd.read_file('data/test_points.shp')"
   ]
  },
  {
   "cell_type": "markdown",
   "metadata": {},
   "source": [
    "Here are the test points on the map:\n",
    "\n",
    "<img src=\"images/test_points.png\" width=\"400px\" />"
   ]
  },
  {
   "cell_type": "markdown",
   "metadata": {},
   "source": [
    "Getting coordinates as a tuple from a Shapely point geometry is a bit awkward."
   ]
  },
  {
   "cell_type": "code",
   "execution_count": 56,
   "metadata": {},
   "outputs": [
    {
     "data": {
      "text/plain": [
       "(-320315.0, 1284942.0)"
      ]
     },
     "execution_count": 56,
     "metadata": {},
     "output_type": "execute_result"
    }
   ],
   "source": [
    "g = starts.geometry[0]\n",
    "tuple(np.array(g.coords)[0])"
   ]
  },
  {
   "cell_type": "markdown",
   "metadata": {},
   "source": [
    "This very quickly calculates the path geometries for the points in the test shapefile."
   ]
  },
  {
   "cell_type": "code",
   "execution_count": 50,
   "metadata": {},
   "outputs": [
    {
     "name": "stdout",
     "output_type": "stream",
     "text": [
      "CPU times: user 2.21 s, sys: 9.84 ms, total: 2.22 s\n",
      "Wall time: 2.22 s\n"
     ]
    }
   ],
   "source": [
    "%%time\n",
    "paths = starts.geometry.apply(lambda g: gb.graph.shortest_path_to_coast(\n",
    "                                   gb.graph.closest_node(tuple(np.array(g.coords)[0]))))"
   ]
  },
  {
   "cell_type": "markdown",
   "metadata": {},
   "source": [
    "Print the lengths for the paths in km."
   ]
  },
  {
   "cell_type": "code",
   "execution_count": 57,
   "metadata": {},
   "outputs": [
    {
     "name": "stdout",
     "output_type": "stream",
     "text": [
      "294.15 km\n",
      "18.95 km\n",
      "65.69 km\n",
      "240.46 km\n",
      "123.90 km\n",
      "255.01 km\n",
      "95.74 km\n",
      "91.98 km\n",
      "299.18 km\n"
     ]
    }
   ],
   "source": [
    "for leng in [p.length * .001 for p in paths]:\n",
    "    print \"{:.2f} km\".format(leng)"
   ]
  },
  {
   "cell_type": "markdown",
   "metadata": {},
   "source": [
    "Puth the paths in a GeoDataFrame and save to a shapefile."
   ]
  },
  {
   "cell_type": "code",
   "execution_count": 61,
   "metadata": {
    "collapsed": true
   },
   "outputs": [],
   "source": [
    "pgdf = gpd.geodataframe.GeoDataFrame(paths)\n",
    "pgdf.crs = starts.crs\n",
    "pgdf.to_file('data/test_paths.shp')"
   ]
  },
  {
   "cell_type": "markdown",
   "metadata": {},
   "source": [
    "Here are the paths to the coast from the test points:\n",
    "\n",
    "<img src=\"images/test_output.png\" width=\"600px\" />"
   ]
  },
  {
   "cell_type": "markdown",
   "metadata": {},
   "source": [
    "Now I just need to scale this up to the whole state."
   ]
  },
  {
   "cell_type": "code",
   "execution_count": null,
   "metadata": {
    "collapsed": true
   },
   "outputs": [],
   "source": []
  }
 ],
 "metadata": {
  "kernelspec": {
   "display_name": "Python 2",
   "language": "python",
   "name": "python2"
  },
  "language_info": {
   "codemirror_mode": {
    "name": "ipython",
    "version": 2
   },
   "file_extension": ".py",
   "mimetype": "text/x-python",
   "name": "python",
   "nbconvert_exporter": "python",
   "pygments_lexer": "ipython2",
   "version": "2.7.13"
  }
 },
 "nbformat": 4,
 "nbformat_minor": 2
}
