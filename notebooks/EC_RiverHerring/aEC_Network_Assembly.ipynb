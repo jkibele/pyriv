{
 "cells": [
  {
   "cell_type": "markdown",
   "metadata": {},
   "source": [
    "# Network Assembly\n",
    "\n",
    "The river system has been subsetted to rivers with sites on them, the auto completed river extensions have been calculated, and the manually drawn sections have been created. Now we need to stitch these components together and add them to the coastal network."
   ]
  },
  {
   "cell_type": "code",
   "execution_count": 1,
   "metadata": {},
   "outputs": [
    {
     "name": "stdout",
     "output_type": "stream",
     "text": [
      "Populating the interactive namespace from numpy and matplotlib\n"
     ]
    }
   ],
   "source": [
    "%pylab inline\n",
    "import os\n",
    "import json\n",
    "import pyriv\n",
    "import networkx as nx\n",
    "import geopandas as gpd\n",
    "import pandas as pd\n",
    "import mplleaflet\n",
    "from shapely.geometry import Point, LinearRing, Polygon, LineString\n",
    "from shapely.affinity import translate\n",
    "from shapely import ops\n",
    "import pyriv.rg_light as rgl\n",
    "from pyriv.point_processor import save_paths, save_points\n",
    "from scipy.misc import comb\n",
    "\n",
    "data_dir = '/Users/jkibele/Documents/RiverDistEastCoast/data/'\n",
    "fp = lambda s: os.path.join(data_dir, s)\n",
    "\n",
    "auto_compfn = fp('auto_complete.shp')\n",
    "drawnfn = fp('draw_qgis.shp')\n",
    "riv_subset = fp('river_subset.gpickle')\n",
    "coast_graph_fn = fp('land500m_5070.gpickle')\n",
    "land_shp_fn = fp('land500m_5070.shp')"
   ]
  },
  {
   "cell_type": "markdown",
   "metadata": {},
   "source": [
    "Load the river data sets and weight the edges."
   ]
  },
  {
   "cell_type": "code",
   "execution_count": 2,
   "metadata": {},
   "outputs": [],
   "source": [
    "auto_riv = rgl.RiverGraph(data=nx.read_shp(auto_compfn)).weight_edges()\n",
    "drawn_riv = rgl.RiverGraph(data=nx.read_shp(drawnfn)).weight_edges()\n",
    "riv_sub = rgl.RiverGraph(data=nx.read_gpickle(riv_subset)).weight_edges()"
   ]
  },
  {
   "cell_type": "markdown",
   "metadata": {},
   "source": [
    "Stick them all together into a full river graph. Round them to make sure nodes are recognized as being the same when they're meant to be. (Floating point error can break the network otherwise). Then save the network as a graph pickle."
   ]
  },
  {
   "cell_type": "code",
   "execution_count": 3,
   "metadata": {},
   "outputs": [],
   "source": [
    "reverse_linestring = lambda ls: LineString(ls.coords[::-1])"
   ]
  },
  {
   "cell_type": "code",
   "execution_count": 14,
   "metadata": {},
   "outputs": [],
   "source": [
    "# full_rgr = nx.compose_all([riv_sub, auto_riv, drawn_riv])\n",
    "full_rgr = nx.read_gpickle(fp('output/full_rgr.gpickle'))\n",
    "# this will round nodes to the closest mm. I think that's good enough\n",
    "full_rgr = pyriv.river_graph.node_rounding(full_rgr, 3)\n",
    "nx.write_gpickle(full_rgr, fp('full_rgr.gpickle'))"
   ]
  },
  {
   "cell_type": "markdown",
   "metadata": {},
   "source": [
    "Reverse the graphs and add the reversed edges back in."
   ]
  },
  {
   "cell_type": "code",
   "execution_count": 15,
   "metadata": {},
   "outputs": [],
   "source": [
    "from pyriv.rg_light import json_linestring_reverse, full_reverse, add_reverse"
   ]
  },
  {
   "cell_type": "code",
   "execution_count": 16,
   "metadata": {},
   "outputs": [],
   "source": [
    "# rgr_multi = directed_to_multidirected(full_rgr)"
   ]
  },
  {
   "cell_type": "code",
   "execution_count": 17,
   "metadata": {},
   "outputs": [],
   "source": [
    "# full_rgr[n0][tpep]\n",
    "# directed_to_multidirected(full_rgr)[n0][tpep]\n",
    "# directed_to_multidirected(full_rgr)[tpep][n0]"
   ]
  },
  {
   "cell_type": "markdown",
   "metadata": {},
   "source": [
    "Load the coastal network, round it, and combine it with the rivers."
   ]
  },
  {
   "cell_type": "code",
   "execution_count": 18,
   "metadata": {},
   "outputs": [],
   "source": [
    "coast_graph = nx.read_gpickle(coast_graph_fn)\n",
    "coast_graph = pyriv.river_graph.node_rounding(coast_graph)\n",
    "total_multidigraph = add_reverse(nx.compose(nx.DiGraph(full_rgr), coast_graph.to_directed()))\n",
    "total_unlinked = pyriv.coastal.Land(land_shp_fn, graph=total_multidigraph)"
   ]
  },
  {
   "cell_type": "code",
   "execution_count": 19,
   "metadata": {},
   "outputs": [
    {
     "data": {
      "text/plain": [
       "networkx.classes.digraph.DiGraph"
      ]
     },
     "execution_count": 19,
     "metadata": {},
     "output_type": "execute_result"
    }
   ],
   "source": [
    "type(total_multidigraph)"
   ]
  },
  {
   "cell_type": "markdown",
   "metadata": {},
   "source": [
    "### Added Ocean Edges for River Ends and Ocean Sites\n",
    "\n",
    "First, I'll have to get a list of river ends points."
   ]
  },
  {
   "cell_type": "code",
   "execution_count": 20,
   "metadata": {},
   "outputs": [],
   "source": [
    "sites = gpd.read_file(fp('sites.shp'))\n",
    "rgr = rgl.RiverGraph(data=full_rgr)\n",
    "distdf = rgl.deadend_distances(sites, rgr, True)\n",
    "myround = lambda f: round(f, 3)\n",
    "tround = lambda t: tuple([myround(f) for f in t])\n",
    "path_end_node = lambda pth: tround(pth.coords[-1])\n",
    "oceanpnts = distdf.query(\"node_dist >= 4000\").geometry.apply(lambda p: tround(pyriv.point_to_tuple(p)))\n",
    "riv_ends = distdf.query(\"node_dist < 4000\").path.apply(path_end_node)\n",
    "link_nodes = pd.concat([oceanpnts, riv_ends], ignore_index=True).unique()"
   ]
  },
  {
   "cell_type": "code",
   "execution_count": 30,
   "metadata": {},
   "outputs": [
    {
     "data": {
      "text/plain": [
       "False"
      ]
     },
     "execution_count": 30,
     "metadata": {},
     "output_type": "execute_result"
    }
   ],
   "source": [
    "distdf.query(\"node_dist < 4000\").path.apply(lambda p: p.is_empty).any()"
   ]
  },
  {
   "cell_type": "code",
   "execution_count": 21,
   "metadata": {},
   "outputs": [
    {
     "data": {
      "text/plain": [
       "87"
      ]
     },
     "execution_count": 21,
     "metadata": {},
     "output_type": "execute_result"
    }
   ],
   "source": [
    "import pickle\n",
    "pickle.dump(link_nodes, open(fp('link_nodes.pickle'), 'wb'))\n",
    "len(link_nodes)"
   ]
  },
  {
   "cell_type": "code",
   "execution_count": 22,
   "metadata": {},
   "outputs": [
    {
     "name": "stdout",
     "output_type": "stream",
     "text": [
      "CPU times: user 43.9 s, sys: 1.46 s, total: 45.4 s\n",
      "Wall time: 59.8 s\n"
     ]
    }
   ],
   "source": [
    "%%time \n",
    "# took just under 9 min on MacBook Pro\n",
    "full_graph = total_unlinked.add_ocean_edges(link_nodes, n_jobs=7, radius=2e4)\n",
    "full_graph = add_reverse(full_graph)\n",
    "nx.write_gpickle(full_graph, fp('total_connected.gpickle'))\n",
    "# if it's already been run and you don't want to wait:\n",
    "# full_graph = nx.read_gpickle(fp('total_connected.gpickle'))"
   ]
  },
  {
   "cell_type": "code",
   "execution_count": 23,
   "metadata": {},
   "outputs": [
    {
     "data": {
      "text/plain": [
       "networkx.classes.digraph.DiGraph"
      ]
     },
     "execution_count": 23,
     "metadata": {},
     "output_type": "execute_result"
    }
   ],
   "source": [
    "type(full_graph)"
   ]
  },
  {
   "cell_type": "markdown",
   "metadata": {},
   "source": [
    "## Test with a couple of points"
   ]
  },
  {
   "cell_type": "code",
   "execution_count": 24,
   "metadata": {},
   "outputs": [
    {
     "data": {
      "text/html": [
       "<iframe src=\"data:text/html;base64,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\" width=\"100%\" height=\"360\"></iframe>"
      ],
      "text/plain": [
       "<IPython.core.display.HTML object>"
      ]
     },
     "execution_count": 24,
     "metadata": {},
     "output_type": "execute_result"
    }
   ],
   "source": [
    "fish_dist = pyriv.coastal.coastal_fish_distance\n",
    "p0 = sites.loc[sites.Code=='SJR'].geometry.iloc[2]\n",
    "p1 = sites.geometry.iloc[0]\n",
    "p2 = sites.geometry.iloc[1]\n",
    "gdf_from_geoms = lambda gs: gpd.GeoDataFrame({'geometry': gs})\n",
    "fd_df = gdf_from_geoms([fish_dist(full_graph, p2, p0)])\n",
    "fd_df.plot(linewidth=4.0, color='r', figsize=(6,6))\n",
    "mplleaflet.display(epsg=5070)"
   ]
  },
  {
   "cell_type": "code",
   "execution_count": null,
   "metadata": {
    "collapsed": true
   },
   "outputs": [],
   "source": []
  },
  {
   "cell_type": "code",
   "execution_count": null,
   "metadata": {
    "collapsed": true
   },
   "outputs": [],
   "source": []
  },
  {
   "cell_type": "code",
   "execution_count": null,
   "metadata": {
    "collapsed": true
   },
   "outputs": [],
   "source": []
  },
  {
   "cell_type": "code",
   "execution_count": null,
   "metadata": {
    "collapsed": true
   },
   "outputs": [],
   "source": []
  },
  {
   "cell_type": "code",
   "execution_count": null,
   "metadata": {
    "collapsed": true
   },
   "outputs": [],
   "source": []
  },
  {
   "cell_type": "code",
   "execution_count": 12,
   "metadata": {},
   "outputs": [
    {
     "data": {
      "text/plain": [
       "((1728612.446, 2043685.658), (1658942.243, 1821575.634))"
      ]
     },
     "execution_count": 12,
     "metadata": {},
     "output_type": "execute_result"
    }
   ],
   "source": [
    "op0, op1 = oceanpnts.iloc[:2]\n",
    "op0, op1"
   ]
  },
  {
   "cell_type": "code",
   "execution_count": 66,
   "metadata": {
    "collapsed": true
   },
   "outputs": [],
   "source": [
    "tpth = distdf.loc[distdf.Code=='SJR','path'].iloc[0]\n",
    "tpep = path_end_node(tpth)"
   ]
  },
  {
   "cell_type": "code",
   "execution_count": 77,
   "metadata": {},
   "outputs": [
    {
     "data": {
      "image/svg+xml": [
       "<svg xmlns=\"http://www.w3.org/2000/svg\" xmlns:xlink=\"http://www.w3.org/1999/xlink\" width=\"300\" height=\"300\" viewBox=\"2223437.42749 2843101.46164 80524.6731894 60665.3049622\" preserveAspectRatio=\"xMinYMin meet\"><g transform=\"matrix(1,0,0,-1,0,5746868.22824)\"><polyline fill=\"none\" stroke=\"#66cc99\" stroke-width=\"536.831154596\" points=\"2297330.76098,2846083.85694 2294952.88103,2847984.07437 2294597.22888,2851176.86893 2296371.46159,2857000.43266 2298618.18522,2863166.34373 2300979.70537,2869267.10452 2300678.85749,2875663.01333 2296367.89513,2878800.939 2294662.68413,2880810.98266 2290431.90914,2890012.98049 2288640.17619,2891839.49408 2285985.70414,2896770.87184 2282959.97942,2898488.83717 2271430.81813,2899971.76622 2264140.76709,2898794.44746 2257176.25345,2894977.73684 2245959.35176,2899023.15588 2236395.32631,2900784.3713 2226419.82279,2895680.59494\" opacity=\"0.8\" /></g></svg>"
      ],
      "text/plain": [
       "<shapely.geometry.linestring.LineString at 0x10dd9c310>"
      ]
     },
     "execution_count": 77,
     "metadata": {},
     "output_type": "execute_result"
    }
   ],
   "source": [
    "LineString(tpth.coords[::-1])"
   ]
  },
  {
   "cell_type": "code",
   "execution_count": 67,
   "metadata": {},
   "outputs": [
    {
     "data": {
      "text/plain": [
       "(2297330.761, 2846083.857)"
      ]
     },
     "execution_count": 67,
     "metadata": {},
     "output_type": "execute_result"
    }
   ],
   "source": [
    "tpep"
   ]
  },
  {
   "cell_type": "code",
   "execution_count": 151,
   "metadata": {},
   "outputs": [
    {
     "data": {
      "text/plain": [
       "{'Json': '{ \"type\": \"LineString\", \"coordinates\": [ [ 2226419.822791225276887, 2895680.594935759436339 ], [ 2236395.326307798270136, 2900784.371298689395189 ], [ 2245959.351761912927032, 2899023.155884014908224 ], [ 2257176.253446499817073, 2894977.736836523748934 ], [ 2264140.767089489847422, 2898794.447464624419808 ], [ 2271430.818130108062178, 2899971.766216910909861 ], [ 2282959.979424915742129, 2898488.83716952893883 ], [ 2285985.704138903878629, 2896770.87184171192348 ], [ 2288640.176186424214393, 2891839.494079026859254 ], [ 2290431.90914183203131, 2890012.98049052618444 ], [ 2294662.684132322203368, 2880810.98266008682549 ], [ 2296367.89513082196936, 2878800.939001320395619 ], [ 2300678.857486966531724, 2875663.013329821173102 ], [ 2300979.7053739996627, 2869267.104516986291856 ], [ 2298618.185221419669688, 2863166.343734075780958 ], [ 2296371.461586110293865, 2857000.43265745928511 ], [ 2294597.228884864598513, 2851176.86892595840618 ], [ 2294952.881026514805853, 2847984.074367524590343 ], [ 2297330.760982770007104, 2846083.856943130493164 ] ] }',\n",
       " 'ShpName': 'draw_qgis',\n",
       " 'Wkb': '\\x00\\x00\\x00\\x00\\x02\\x00\\x00\\x00\\x13A@\\xfcy\\xe9Q9\\x0eAF\\x17\\xa0L&\\xda\\xdfAA\\x0f\\xf5\\xa9\\xc4t5AF!\\x98/\\x86\\xb7(AA\"\\xa3\\xad\\x06\\x88\\xccAF\\x1e\\'\\x93\\xf4\\x01\\xe5AA8\\x8c p\\xefVAF\\x16@\\xdeP\\xa8\\xc2AAF&b/\\xfd\\x08AF\\x1d\\xb59F\\x85TAATch\\xb8|\\xc5AF \\x01\\xe2\\x13eOAAj\\xe7\\xfd]\\xcb\\xafAF\\x1d\\x1ck(_\\x02AAp\\xd0\\xda!9>AF\\x19\\xc1o\\x98\\x82\\\\AAv\\x00\\x16\\x8dF\\xd9AF\\x10\\x1f\\xbf=\\xfbGAAy\\x7f\\xf4^\\xc2rAF\\x0c\\x8e}\\x80\\xb6\\xacAA\\x81\\xc3W\\x91\\xa5\\xdfAE\\xfa\\x95}\\xc7\\xceDAA\\x85\\x17\\xf2\\x93\\xa5\\x93AE\\xf6\\xa8x11\\xfdAA\\x8d\\x83m\\xc2\"\\x07AE\\xf0\\x87\\x81\\xb4\\xca\\xa5AA\\x8e\\x19\\xdaI\\xb1\\xfaAE\\xe4\\t\\x8d`\\xd0\\x07AA\\x89}\\x17\\xb5U\\xe2AE\\xd8\\x1f+\\xffzkAA\\x85\\x19\\xbb\\x15@\\xf0AE\\xcc\\x147aQ\\xd3AA\\x81\\xa2\\x9dL\\x19hAE\\xc0\\xb4o8\\xf7?AA\\x82Tp\\xc5z\\x12AE\\xbax\\t\\x84\\xe0\\x03AA\\x86\\xf9ag\\xe2\\'AE\\xb6\\xc1\\xed\\xb0P\\x00',\n",
       " 'Wkt': 'LINESTRING (2226419.822791225276887 2895680.594935759436339,2236395.326307798270136 2900784.371298689395189,2245959.351761912927032 2899023.155884014908224,2257176.253446499817073 2894977.736836523748934,2264140.767089489847422 2898794.447464624419808,2271430.818130108062178 2899971.766216910909861,2282959.979424915742129 2898488.83716952893883,2285985.704138903878629 2896770.87184171192348,2288640.176186424214393 2891839.494079026859254,2290431.90914183203131 2890012.98049052618444,2294662.684132322203368 2880810.98266008682549,2296367.89513082196936 2878800.939001320395619,2300678.857486966531724 2875663.013329821173102,2300979.7053739996627 2869267.104516986291856,2298618.185221419669688 2863166.343734075780958,2296371.461586110293865 2857000.43265745928511,2294597.228884864598513 2851176.86892595840618,2294952.881026514805853 2847984.074367524590343,2297330.760982770007104 2846083.856943130493164)',\n",
       " 'distance': 121390.69296808663,\n",
       " 'id': None}"
      ]
     },
     "execution_count": 151,
     "metadata": {},
     "output_type": "execute_result"
    }
   ],
   "source": [
    "n0 = pyriv.coastal.closest_node(full_rgr, p0)\n",
    "rgr_multi[tpep][n0]"
   ]
  },
  {
   "cell_type": "code",
   "execution_count": 150,
   "metadata": {},
   "outputs": [
    {
     "data": {
      "text/plain": [
       "{'Json': '{ \"type\": \"LineString\", \"coordinates\": [ [ 2226419.822791225276887, 2895680.594935759436339 ], [ 2236395.326307798270136, 2900784.371298689395189 ], [ 2245959.351761912927032, 2899023.155884014908224 ], [ 2257176.253446499817073, 2894977.736836523748934 ], [ 2264140.767089489847422, 2898794.447464624419808 ], [ 2271430.818130108062178, 2899971.766216910909861 ], [ 2282959.979424915742129, 2898488.83716952893883 ], [ 2285985.704138903878629, 2896770.87184171192348 ], [ 2288640.176186424214393, 2891839.494079026859254 ], [ 2290431.90914183203131, 2890012.98049052618444 ], [ 2294662.684132322203368, 2880810.98266008682549 ], [ 2296367.89513082196936, 2878800.939001320395619 ], [ 2300678.857486966531724, 2875663.013329821173102 ], [ 2300979.7053739996627, 2869267.104516986291856 ], [ 2298618.185221419669688, 2863166.343734075780958 ], [ 2296371.461586110293865, 2857000.43265745928511 ], [ 2294597.228884864598513, 2851176.86892595840618 ], [ 2294952.881026514805853, 2847984.074367524590343 ], [ 2297330.760982770007104, 2846083.856943130493164 ] ] }',\n",
       " 'ShpName': 'draw_qgis',\n",
       " 'Wkb': '\\x00\\x00\\x00\\x00\\x02\\x00\\x00\\x00\\x13A@\\xfcy\\xe9Q9\\x0eAF\\x17\\xa0L&\\xda\\xdfAA\\x0f\\xf5\\xa9\\xc4t5AF!\\x98/\\x86\\xb7(AA\"\\xa3\\xad\\x06\\x88\\xccAF\\x1e\\'\\x93\\xf4\\x01\\xe5AA8\\x8c p\\xefVAF\\x16@\\xdeP\\xa8\\xc2AAF&b/\\xfd\\x08AF\\x1d\\xb59F\\x85TAATch\\xb8|\\xc5AF \\x01\\xe2\\x13eOAAj\\xe7\\xfd]\\xcb\\xafAF\\x1d\\x1ck(_\\x02AAp\\xd0\\xda!9>AF\\x19\\xc1o\\x98\\x82\\\\AAv\\x00\\x16\\x8dF\\xd9AF\\x10\\x1f\\xbf=\\xfbGAAy\\x7f\\xf4^\\xc2rAF\\x0c\\x8e}\\x80\\xb6\\xacAA\\x81\\xc3W\\x91\\xa5\\xdfAE\\xfa\\x95}\\xc7\\xceDAA\\x85\\x17\\xf2\\x93\\xa5\\x93AE\\xf6\\xa8x11\\xfdAA\\x8d\\x83m\\xc2\"\\x07AE\\xf0\\x87\\x81\\xb4\\xca\\xa5AA\\x8e\\x19\\xdaI\\xb1\\xfaAE\\xe4\\t\\x8d`\\xd0\\x07AA\\x89}\\x17\\xb5U\\xe2AE\\xd8\\x1f+\\xffzkAA\\x85\\x19\\xbb\\x15@\\xf0AE\\xcc\\x147aQ\\xd3AA\\x81\\xa2\\x9dL\\x19hAE\\xc0\\xb4o8\\xf7?AA\\x82Tp\\xc5z\\x12AE\\xbax\\t\\x84\\xe0\\x03AA\\x86\\xf9ag\\xe2\\'AE\\xb6\\xc1\\xed\\xb0P\\x00',\n",
       " 'Wkt': 'LINESTRING (2226419.822791225276887 2895680.594935759436339,2236395.326307798270136 2900784.371298689395189,2245959.351761912927032 2899023.155884014908224,2257176.253446499817073 2894977.736836523748934,2264140.767089489847422 2898794.447464624419808,2271430.818130108062178 2899971.766216910909861,2282959.979424915742129 2898488.83716952893883,2285985.704138903878629 2896770.87184171192348,2288640.176186424214393 2891839.494079026859254,2290431.90914183203131 2890012.98049052618444,2294662.684132322203368 2880810.98266008682549,2296367.89513082196936 2878800.939001320395619,2300678.857486966531724 2875663.013329821173102,2300979.7053739996627 2869267.104516986291856,2298618.185221419669688 2863166.343734075780958,2296371.461586110293865 2857000.43265745928511,2294597.228884864598513 2851176.86892595840618,2294952.881026514805853 2847984.074367524590343,2297330.760982770007104 2846083.856943130493164)',\n",
       " 'distance': 121390.69296808663,\n",
       " 'id': None}"
      ]
     },
     "execution_count": 150,
     "metadata": {},
     "output_type": "execute_result"
    }
   ],
   "source": [
    "ed = rgr_multi[n0][tpep]\n",
    "ed"
   ]
  },
  {
   "cell_type": "code",
   "execution_count": 152,
   "metadata": {},
   "outputs": [
    {
     "data": {
      "text/plain": [
       "{'Json': '{ \"type\": \"LineString\", \"coordinates\": [ [ 2226419.822791225276887, 2895680.594935759436339 ], [ 2236395.326307798270136, 2900784.371298689395189 ], [ 2245959.351761912927032, 2899023.155884014908224 ], [ 2257176.253446499817073, 2894977.736836523748934 ], [ 2264140.767089489847422, 2898794.447464624419808 ], [ 2271430.818130108062178, 2899971.766216910909861 ], [ 2282959.979424915742129, 2898488.83716952893883 ], [ 2285985.704138903878629, 2896770.87184171192348 ], [ 2288640.176186424214393, 2891839.494079026859254 ], [ 2290431.90914183203131, 2890012.98049052618444 ], [ 2294662.684132322203368, 2880810.98266008682549 ], [ 2296367.89513082196936, 2878800.939001320395619 ], [ 2300678.857486966531724, 2875663.013329821173102 ], [ 2300979.7053739996627, 2869267.104516986291856 ], [ 2298618.185221419669688, 2863166.343734075780958 ], [ 2296371.461586110293865, 2857000.43265745928511 ], [ 2294597.228884864598513, 2851176.86892595840618 ], [ 2294952.881026514805853, 2847984.074367524590343 ], [ 2297330.760982770007104, 2846083.856943130493164 ] ] }',\n",
       " 'ShpName': 'draw_qgis',\n",
       " 'Wkb': '\\x00\\x00\\x00\\x00\\x02\\x00\\x00\\x00\\x13A@\\xfcy\\xe9Q9\\x0eAF\\x17\\xa0L&\\xda\\xdfAA\\x0f\\xf5\\xa9\\xc4t5AF!\\x98/\\x86\\xb7(AA\"\\xa3\\xad\\x06\\x88\\xccAF\\x1e\\'\\x93\\xf4\\x01\\xe5AA8\\x8c p\\xefVAF\\x16@\\xdeP\\xa8\\xc2AAF&b/\\xfd\\x08AF\\x1d\\xb59F\\x85TAATch\\xb8|\\xc5AF \\x01\\xe2\\x13eOAAj\\xe7\\xfd]\\xcb\\xafAF\\x1d\\x1ck(_\\x02AAp\\xd0\\xda!9>AF\\x19\\xc1o\\x98\\x82\\\\AAv\\x00\\x16\\x8dF\\xd9AF\\x10\\x1f\\xbf=\\xfbGAAy\\x7f\\xf4^\\xc2rAF\\x0c\\x8e}\\x80\\xb6\\xacAA\\x81\\xc3W\\x91\\xa5\\xdfAE\\xfa\\x95}\\xc7\\xceDAA\\x85\\x17\\xf2\\x93\\xa5\\x93AE\\xf6\\xa8x11\\xfdAA\\x8d\\x83m\\xc2\"\\x07AE\\xf0\\x87\\x81\\xb4\\xca\\xa5AA\\x8e\\x19\\xdaI\\xb1\\xfaAE\\xe4\\t\\x8d`\\xd0\\x07AA\\x89}\\x17\\xb5U\\xe2AE\\xd8\\x1f+\\xffzkAA\\x85\\x19\\xbb\\x15@\\xf0AE\\xcc\\x147aQ\\xd3AA\\x81\\xa2\\x9dL\\x19hAE\\xc0\\xb4o8\\xf7?AA\\x82Tp\\xc5z\\x12AE\\xbax\\t\\x84\\xe0\\x03AA\\x86\\xf9ag\\xe2\\'AE\\xb6\\xc1\\xed\\xb0P\\x00',\n",
       " 'Wkt': 'LINESTRING (2226419.822791225276887 2895680.594935759436339,2236395.326307798270136 2900784.371298689395189,2245959.351761912927032 2899023.155884014908224,2257176.253446499817073 2894977.736836523748934,2264140.767089489847422 2898794.447464624419808,2271430.818130108062178 2899971.766216910909861,2282959.979424915742129 2898488.83716952893883,2285985.704138903878629 2896770.87184171192348,2288640.176186424214393 2891839.494079026859254,2290431.90914183203131 2890012.98049052618444,2294662.684132322203368 2880810.98266008682549,2296367.89513082196936 2878800.939001320395619,2300678.857486966531724 2875663.013329821173102,2300979.7053739996627 2869267.104516986291856,2298618.185221419669688 2863166.343734075780958,2296371.461586110293865 2857000.43265745928511,2294597.228884864598513 2851176.86892595840618,2294952.881026514805853 2847984.074367524590343,2297330.760982770007104 2846083.856943130493164)',\n",
       " 'distance': 121390.69296808663,\n",
       " 'id': None}"
      ]
     },
     "execution_count": 152,
     "metadata": {},
     "output_type": "execute_result"
    }
   ],
   "source": [
    "full_rgr.reverse()[tpep][n0]"
   ]
  },
  {
   "cell_type": "code",
   "execution_count": 124,
   "metadata": {},
   "outputs": [
    {
     "data": {
      "text/plain": [
       "2.0"
      ]
     },
     "execution_count": 124,
     "metadata": {},
     "output_type": "execute_result"
    }
   ],
   "source": [
    "G = nx.path_graph(3)\n",
    "bb = nx.edge_betweenness_centrality(G, normalized=False)\n",
    "nx.set_edge_attributes(G, 'betweenness', bb)\n",
    "G[1][2]['betweenness']"
   ]
  },
  {
   "cell_type": "code",
   "execution_count": 125,
   "metadata": {},
   "outputs": [
    {
     "data": {
      "text/plain": [
       "{(0, 1): 2.0, (1, 2): 2.0}"
      ]
     },
     "execution_count": 125,
     "metadata": {},
     "output_type": "execute_result"
    }
   ],
   "source": [
    "bb"
   ]
  },
  {
   "cell_type": "code",
   "execution_count": 126,
   "metadata": {},
   "outputs": [
    {
     "data": {
      "text/plain": [
       "{(0, 1): 2.0, (1, 2): 2.0}"
      ]
     },
     "execution_count": 126,
     "metadata": {},
     "output_type": "execute_result"
    }
   ],
   "source": [
    "nx.get_edge_attributes(G, 'betweenness')"
   ]
  },
  {
   "cell_type": "code",
   "execution_count": 127,
   "metadata": {},
   "outputs": [
    {
     "name": "stdout",
     "output_type": "stream",
     "text": [
      "0 1\n",
      "1 2\n"
     ]
    }
   ],
   "source": [
    "for n0,n1 in G.edges_iter():\n",
    "    print n0, n1"
   ]
  },
  {
   "cell_type": "code",
   "execution_count": 246,
   "metadata": {},
   "outputs": [
    {
     "name": "stdout",
     "output_type": "stream",
     "text": [
      "pork chop\n",
      "foo bar\n"
     ]
    }
   ],
   "source": [
    "for k,v in {'pork':'chop','foo':'bar'}.iteritems():\n",
    "    print k, v"
   ]
  },
  {
   "cell_type": "code",
   "execution_count": null,
   "metadata": {
    "collapsed": true
   },
   "outputs": [],
   "source": []
  }
 ],
 "metadata": {
  "kernelspec": {
   "display_name": "Python 2",
   "language": "python",
   "name": "python2"
  },
  "language_info": {
   "codemirror_mode": {
    "name": "ipython",
    "version": 2
   },
   "file_extension": ".py",
   "mimetype": "text/x-python",
   "name": "python",
   "nbconvert_exporter": "python",
   "pygments_lexer": "ipython2",
   "version": "2.7.12"
  }
 },
 "nbformat": 4,
 "nbformat_minor": 2
}
