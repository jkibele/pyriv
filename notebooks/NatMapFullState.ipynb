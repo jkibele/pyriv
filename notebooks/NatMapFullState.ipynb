{
 "cells": [
  {
   "cell_type": "markdown",
   "metadata": {},
   "source": [
    "# National Map Full State"
   ]
  },
  {
   "cell_type": "code",
   "execution_count": 19,
   "metadata": {},
   "outputs": [
    {
     "name": "stdout",
     "output_type": "stream",
     "text": [
      "Populating the interactive namespace from numpy and matplotlib\n"
     ]
    }
   ],
   "source": [
    "%pylab inline\n",
    "import pyriv\n",
    "import geopandas as gpd"
   ]
  },
  {
   "cell_type": "code",
   "execution_count": 2,
   "metadata": {},
   "outputs": [
    {
     "name": "stdout",
     "output_type": "stream",
     "text": [
      "/Users/jkibele/Documents/SASAP/sasap-size-declines/RiverDistance\n"
     ]
    }
   ],
   "source": [
    "cd /Users/jkibele/Documents/SASAP/sasap-size-declines/RiverDistance/"
   ]
  },
  {
   "cell_type": "code",
   "execution_count": 13,
   "metadata": {
    "collapsed": true
   },
   "outputs": [],
   "source": [
    "natmap_fn = 'data/NatMapGDF.shp'\n",
    "nm_coastline_fn = 'data/NatMapCoastline3338.shp'"
   ]
  },
  {
   "cell_type": "code",
   "execution_count": 14,
   "metadata": {},
   "outputs": [
    {
     "name": "stdout",
     "output_type": "stream",
     "text": [
      "Weighting Edges with Distances\n",
      "CPU times: user 1min 55s, sys: 3.14 s, total: 1min 58s\n",
      "Wall time: 1min 57s\n"
     ]
    }
   ],
   "source": [
    "%%time\n",
    "gb = pyriv.GraphBuilder(natmap_fn, nm_coastline_fn)"
   ]
  },
  {
   "cell_type": "markdown",
   "metadata": {},
   "source": [
    "Graph pruning isn't working right now. I'll have to fix that, but I'll try without pruning for now.\n",
    "\n",
    "I'm also having that weird problem with the shapefiles so I'll save them with gpd to fix it."
   ]
  },
  {
   "cell_type": "code",
   "execution_count": 15,
   "metadata": {
    "collapsed": true
   },
   "outputs": [],
   "source": [
    "kusk_fn = 'data/positions/kusko_pos.shp'\n",
    "yuk_fn = 'data/positions/yukon_pos.shp'"
   ]
  },
  {
   "cell_type": "code",
   "execution_count": 20,
   "metadata": {
    "collapsed": true
   },
   "outputs": [],
   "source": [
    "kdf = gpd.read_file(kusk_fn)\n",
    "ydf = gpd.read_file(yuk_fn)\n",
    "kdf.to_crs({'init' :'epsg:3338'}, inplace=True)\n",
    "ydf.to_crs({'init' :'epsg:3338'}, inplace=True)"
   ]
  },
  {
   "cell_type": "code",
   "execution_count": 21,
   "metadata": {
    "collapsed": true
   },
   "outputs": [],
   "source": [
    "kusk3338fn = 'data/positions/kusko_3338.shp'\n",
    "yuk3338fn = 'data/positions/yuk_3338.shp'\n",
    "kdf.to_file(kusk3338fn)\n",
    "ydf.to_file(yuk3338fn)"
   ]
  },
  {
   "cell_type": "code",
   "execution_count": 22,
   "metadata": {},
   "outputs": [
    {
     "name": "stdout",
     "output_type": "stream",
     "text": [
      "CPU times: user 58.2 s, sys: 599 ms, total: 58.8 s\n",
      "Wall time: 58.8 s\n"
     ]
    }
   ],
   "source": [
    "%%time\n",
    "kusk = pyriv.river_distances(kusk3338fn, gb.graph)"
   ]
  },
  {
   "cell_type": "code",
   "execution_count": 30,
   "metadata": {},
   "outputs": [],
   "source": [
    "kusk.drop(['path'], axis=1).to_file('data/NatMapOutput/kusko_pnts.shp')"
   ]
  },
  {
   "cell_type": "code",
   "execution_count": 47,
   "metadata": {},
   "outputs": [],
   "source": [
    "kuskpath = kusk.set_geometry('path', drop=True)\n",
    "zero_dist = kuskpath.riv_dist_km == 0.0\n",
    "zero_ind = kuskpath.index[zero_dist]\n",
    "kuskpath.drop(zero_ind).to_file('data/NatMapOutput/kusko_paths.shp')"
   ]
  },
  {
   "cell_type": "code",
   "execution_count": 33,
   "metadata": {},
   "outputs": [
    {
     "data": {
      "text/plain": [
       "<matplotlib.axes._subplots.AxesSubplot at 0x10b81b490>"
      ]
     },
     "execution_count": 33,
     "metadata": {},
     "output_type": "execute_result"
    },
    {
     "data": {
      "image/png": "[encoded data removed]",
      "text/plain": [
       "<matplotlib.figure.Figure at 0x149f3f390>"
      ]
     },
     "metadata": {},
     "output_type": "display_data"
    }
   ],
   "source": [
    "kuskpath.plot()"
   ]
  },
  {
   "cell_type": "code",
   "execution_count": 26,
   "metadata": {},
   "outputs": [
    {
     "name": "stdout",
     "output_type": "stream",
     "text": [
      "CPU times: user 4min 16s, sys: 1.94 s, total: 4min 18s\n",
      "Wall time: 4min 18s\n"
     ]
    }
   ],
   "source": [
    "%%time\n",
    "yuk = pyriv.river_distances(yuk3338fn, gb.graph)"
   ]
  },
  {
   "cell_type": "code",
   "execution_count": 40,
   "metadata": {},
   "outputs": [],
   "source": [
    "yuk.drop(['path'], axis=1).to_file('data/NatMapOutput/yuk_pnts.shp')"
   ]
  },
  {
   "cell_type": "code",
   "execution_count": 48,
   "metadata": {
    "collapsed": true
   },
   "outputs": [],
   "source": [
    "yukpath = yuk.set_geometry('path', drop=True)\n",
    "yzero_dist = yukpath.riv_dist_km == 0.0\n",
    "yzero_ind = yukpath.index[yzero_dist]\n",
    "yukpath.drop(yzero_ind).to_file('data/NatMapOutput/yuk_paths.shp')"
   ]
  },
  {
   "cell_type": "code",
   "execution_count": 49,
   "metadata": {},
   "outputs": [
    {
     "data": {
      "text/plain": [
       "Int64Index([14, 15, 16, 29, 40, 41, 73, 74, 91, 118, 124], dtype='int64')"
      ]
     },
     "execution_count": 49,
     "metadata": {},
     "output_type": "execute_result"
    }
   ],
   "source": [
    "yzero_ind"
   ]
  },
  {
   "cell_type": "code",
   "execution_count": null,
   "metadata": {
    "collapsed": true
   },
   "outputs": [],
   "source": []
  }
 ],
 "metadata": {
  "kernelspec": {
   "display_name": "Python 2",
   "language": "python",
   "name": "python2"
  },
  "language_info": {
   "codemirror_mode": {
    "name": "ipython",
    "version": 2
   },
   "file_extension": ".py",
   "mimetype": "text/x-python",
   "name": "python",
   "nbconvert_exporter": "python",
   "pygments_lexer": "ipython2",
   "version": "2.7.13"
  }
 },
 "nbformat": 4,
 "nbformat_minor": 2
}
