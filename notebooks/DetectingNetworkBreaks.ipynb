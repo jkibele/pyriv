{
 "cells": [
  {
   "cell_type": "markdown",
   "metadata": {},
   "source": [
    "#### Setup environment"
   ]
  },
  {
   "cell_type": "code",
   "execution_count": 23,
   "metadata": {},
   "outputs": [],
   "source": [
    "# %load \"/Users/haleighwright/Desktop/NCEAS/pyriv/notebooks/nb_config.py\"\n",
    "import sys\n",
    "sys.path.append(\"/Users/haleighwright/Desktop/NCEAS/pyriv\")\n",
    "sys.path.append(\"/Library/Frameworks/Python.framework/Versions/2.7/lib/python2.7/site-packages\")\n",
    "import networkx as nx\n",
    "import numpy as np\n",
    "import sys\n",
    "import geopandas as gpd\n",
    "from shapely.geometry import Point\n",
    "from multiprocessing import Pool\n",
    "\n",
    "from pyriv import graph_prep as GraphBuilder\n",
    "from pyriv import river_graph as RiverGraph\n",
    "\n",
    "%matplotlib inline"
   ]
  },
  {
   "cell_type": "code",
   "execution_count": 24,
   "metadata": {
    "collapsed": true
   },
   "outputs": [],
   "source": [
    "from functools import partial"
   ]
  },
  {
   "cell_type": "markdown",
   "metadata": {},
   "source": [
    "### Retrieve the dead ends of the network\n",
    "The dead ends are the nodes that have an out degree = 0"
   ]
  },
  {
   "cell_type": "code",
   "execution_count": 25,
   "metadata": {
    "collapsed": true
   },
   "outputs": [],
   "source": [
    "# to be efficient with this process, we need to assign node ID's - nodes are identified by their coord's when read in"
   ]
  },
  {
   "cell_type": "code",
   "execution_count": 26,
   "metadata": {
    "collapsed": true
   },
   "outputs": [],
   "source": [
    "def add_node_ids_copy(G):\n",
    "    \"\"\"\n",
    "    Params: networkx graph\n",
    "    Return: copy of graph with node ID attr. added\n",
    "    \n",
    "    Returns a copy of the graph with node ID attr (an int) added, \n",
    "    used for finding problem nodes easier / quicker node identification\n",
    "    Must use a dict with the nodes' as keys and the attributes listed\n",
    "    \"\"\"\n",
    "    copy = G.copy()\n",
    "    return add_node_ids_mutate(copy)"
   ]
  },
  {
   "cell_type": "code",
   "execution_count": 27,
   "metadata": {
    "collapsed": true
   },
   "outputs": [],
   "source": [
    "def add_node_ids_mutate(G):\n",
    "    \"\"\"\n",
    "    Params: networkx graph\n",
    "    Return: referfence to modified graph\n",
    "    \n",
    "    Modifies input graph with node ID attr (an int) added, \n",
    "    used for finding problem nodes easier / quicker node identification\n",
    "    Must use a dict with the nodes' as keys and the attributes listed\n",
    "    \"\"\"\n",
    "    attr_dict = {}\n",
    "    i = 0\n",
    "    keys = G.nodes()\n",
    "    for node in keys:\n",
    "        attr_dict[node] = i\n",
    "        i = i+1\n",
    "    nx.set_node_attributes(G, 'ID', attr_dict)\n",
    "    return G"
   ]
  },
  {
   "cell_type": "code",
   "execution_count": 28,
   "metadata": {
    "collapsed": true
   },
   "outputs": [],
   "source": [
    "def deadends_old(self, allnodes):\n",
    "    \"\"\"\n",
    "    For a directed graph, find the nodes that have out_degree == 0\n",
    "    Note: this is the older, slower method\n",
    "    \"\"\"\n",
    "    thedict = {}\n",
    "    # get a dictionary of { node: out_degree }\n",
    "    degdict = self.out_degree(self.nodes())\n",
    "    # convert to a 2 column array of node and out_degree\n",
    "    degarr = np.array(degdict.items())\n",
    "    # get a boolean index of rows where out_degree==0\n",
    "    dead_row_ind = (degarr[:,1]==0)\n",
    "\n",
    "    \n",
    "    for i in range(0, len(degarr)):\n",
    "        if dead_row_ind[i] == True:\n",
    "            thedict[allnodes[i][0]] = tuple(degarr[:,0][i])\n",
    "            \n",
    "    # use that index to get the nodes\n",
    "    #dead_nodes = degarr[:,0][dead_row_ind]\n",
    "    return thedict"
   ]
  },
  {
   "cell_type": "code",
   "execution_count": 29,
   "metadata": {},
   "outputs": [],
   "source": [
    "def find_missing_edges_seq(G, ends, allnodes, threshold):\n",
    "    \"\"\"\n",
    "    Params:\n",
    "    Returns: list of missing edges\n",
    "\n",
    "    Sequential method to find missing edges. VERY VERY SLOW; use ||'d version\n",
    "    \"\"\"\n",
    "    for key1, node1 in deadends.iteritems():\n",
    "        for key2, node2 in allnodes.iteritems():\n",
    "            #print node1\n",
    "            xd = node1[0] - node2[0]\n",
    "            yd = node1[1] - node2[1]\n",
    "            dist = np.sqrt((xd*xd + yd*yd))\n",
    "            \n",
    "            if key1 != key2 and dist < threshold and dist > 0:\n",
    "                graph.add_edge(key1, key2)\n",
    "                print(\"added edge from \"+str(key1)+\" : \"+str(node1)+\" to \"+ str(key2)+\" : \"+str(node2))\n",
    "                problem_points[str(cnt)+\"_A\"] =key1\n",
    "                problem_points[str(cnt)+\"_B\"] =key2\n",
    "                break\n",
    "                \n",
    "        \n",
    "\n"
   ]
  },
  {
   "cell_type": "code",
   "execution_count": 30,
   "metadata": {},
   "outputs": [],
   "source": [
    "def find_missing_edges_par(G, ends, allnodes, threshold):\n",
    "    \"\"\"\n",
    "    Params:\n",
    "    Returns:\n",
    "    \n",
    "    ||'d method to find missing edges (a CPU-bound task w/ no communication needs)\n",
    "    Note: in order to pass multiple args to multiproc.'g map we use a partial (Python >=2.7)\n",
    "    \"\"\"\n",
    "    \n",
    "    partial_missing_edges = partial(G, ends, allnodes, threshold)\n",
    "    \n",
    "    "
   ]
  },
  {
   "cell_type": "code",
   "execution_count": 31,
   "metadata": {},
   "outputs": [],
   "source": [
    "def find_missing_edges_par_inner(key1):\n",
    "    \"\"\"\n",
    "    inner function for || version\n",
    "    \"\"\"\n",
    "    \n",
    "    \n",
    "    "
   ]
  },
  {
   "cell_type": "code",
   "execution_count": 32,
   "metadata": {},
   "outputs": [
    {
     "ename": "IndentationError",
     "evalue": "expected an indented block (<ipython-input-32-f04193e812c2>, line 2)",
     "output_type": "error",
     "traceback": [
      "\u001b[0;36m  File \u001b[0;32m\"<ipython-input-32-f04193e812c2>\"\u001b[0;36m, line \u001b[0;32m2\u001b[0m\n\u001b[0;31m    \u001b[0m\n\u001b[0m    ^\u001b[0m\n\u001b[0;31mIndentationError\u001b[0m\u001b[0;31m:\u001b[0m expected an indented block\n"
     ]
    }
   ],
   "source": [
    "def add_missing_edges():\n",
    "    "
   ]
  },
  {
   "cell_type": "code",
   "execution_count": 33,
   "metadata": {
    "collapsed": true
   },
   "outputs": [],
   "source": [
    "def missing_edges_to_shp(pts, filepath, projection_code):\n",
    "    \"\"\"\n",
    "    Params: nodes/pts describing missing edges; relative filepath .shp to write to; projection_code to convert\n",
    "            coords (should match the maps you started with for overlaying purposes)\n",
    "    Returns: none (writes to output file) \n",
    "    \n",
    "    \n",
    "    \"\"\"\n",
    "    pts = list(pts.values())\n",
    "    kcdf = gpd.GeoDataFrame({'geometry': [Point(n) for n in pts]})\n",
    "    kcdf.crs = {'init': projection_code}\n",
    "    kcdf.to_file(filepath)"
   ]
  },
  {
   "cell_type": "code",
   "execution_count": null,
   "metadata": {
    "collapsed": true
   },
   "outputs": [],
   "source": []
  }
 ],
 "metadata": {
  "kernelspec": {
   "display_name": "Python 2",
   "language": "python",
   "name": "python2"
  },
  "language_info": {
   "codemirror_mode": {
    "name": "ipython",
    "version": 2
   },
   "file_extension": ".py",
   "mimetype": "text/x-python",
   "name": "python",
   "nbconvert_exporter": "python",
   "pygments_lexer": "ipython2",
   "version": "2.7.13"
  }
 },
 "nbformat": 4,
 "nbformat_minor": 2
}
