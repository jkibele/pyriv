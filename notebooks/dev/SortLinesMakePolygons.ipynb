{
 "cells": [
  {
   "cell_type": "code",
   "execution_count": 1,
   "metadata": {},
   "outputs": [
    {
     "name": "stdout",
     "output_type": "stream",
     "text": [
      "Populating the interactive namespace from numpy and matplotlib\n"
     ]
    }
   ],
   "source": [
    "%pylab inline\n",
    "import geopandas as gpd\n",
    "import networkx as nx\n"
   ]
  },
  {
   "cell_type": "code",
   "execution_count": 2,
   "metadata": {},
   "outputs": [
    {
     "data": {
      "text/plain": [
       "11"
      ]
     },
     "execution_count": 2,
     "metadata": {},
     "output_type": "execute_result"
    }
   ],
   "source": [
    "cline_fn = \"../../tests/testdata/CoastLine.shp\"\n",
    "lnj_fn = \"../../tests/testdata/LineJoinMulti.shp\"\n",
    "cline = gpd.read_file(lnj_fn)\n",
    "len(cline)"
   ]
  },
  {
   "cell_type": "code",
   "execution_count": 3,
   "metadata": {},
   "outputs": [
    {
     "data": {
      "text/plain": [
       "(True, False)"
      ]
     },
     "execution_count": 3,
     "metadata": {},
     "output_type": "execute_result"
    }
   ],
   "source": [
    "import pyriv\n",
    "(cline.geom_type == \"MultiLineString\").any(), (pyriv.common.explode(cline).geom_type == \"MultiLineString\").any()"
   ]
  },
  {
   "cell_type": "code",
   "execution_count": 4,
   "metadata": {},
   "outputs": [
    {
     "data": {
      "text/plain": [
       "<matplotlib.axes._subplots.AxesSubplot at 0x10d862e90>"
      ]
     },
     "execution_count": 4,
     "metadata": {},
     "output_type": "execute_result"
    },
    {
     "data": {
      "image/png": "[encoded data removed]",
      "text/plain": [
       "<Figure size 432x288 with 1 Axes>"
      ]
     },
     "metadata": {},
     "output_type": "display_data"
    }
   ],
   "source": [
    "import random\n",
    "random.seed(2)\n",
    "cline['id'] = random.sample(xrange(0, len(cline)), len(cline))\n",
    "cline.plot(column='id')"
   ]
  },
  {
   "cell_type": "code",
   "execution_count": 5,
   "metadata": {},
   "outputs": [],
   "source": [
    "from shapely.geometry import Polygon\n",
    "from tempfile import mkdtemp\n",
    "import os\n",
    "\n",
    "class CoastLine(nx.Graph):\n",
    "    def __init__(self, *args, **kwargs):\n",
    "        \"\"\"\n",
    "        Build a CoastLine object.\n",
    "\n",
    "        Parameters\n",
    "        ----------\n",
    "\n",
    "        Returns\n",
    "        -------\n",
    "          A CoastLine object\n",
    "        \"\"\"\n",
    "        self = super(CoastLine, self).__init__(*args, **kwargs)\n",
    "        \n",
    "    @classmethod\n",
    "    def read_shp(cls, shp_fn):\n",
    "        \"\"\"\n",
    "        Construct a CoastLine object from a shapefile.\n",
    "        \"\"\"\n",
    "        gdf = gpd.read_file(shp_fn)\n",
    "        if (gdf.geom_type == 'MultiLineString').any():\n",
    "            tmpdir = mkdtemp()\n",
    "            shp_fn = os.path.join(tmpdir, \"single_part.shp\")\n",
    "            sp_shp = pyriv.common.explode(gdf).to_file(shp_fn)\n",
    "        dig = nx.read_shp(shp_fn, simplify=False)\n",
    "        return cls(dig)\n",
    "    \n",
    "    def connected_subgraphs(self):\n",
    "        \"\"\"\n",
    "        Get the connected component subgraphs. See the NetworkX\n",
    "        documentation for `connected_component_subgraphs` for more\n",
    "        information.\n",
    "        \"\"\"\n",
    "        return nx.connected_component_subgraphs(self)\n",
    "    \n",
    "    def rings(self):\n",
    "        \"\"\"\n",
    "        Return a list of rings. Each ring is a list of nodes. Each\n",
    "        node is a coordinate pair.\n",
    "        \"\"\"\n",
    "        rings = [list(nx.dfs_preorder_nodes(sg)) for sg in self.connected_subgraphs()]\n",
    "        return rings\n",
    "    \n",
    "    def polygons(self):\n",
    "        \"\"\"\n",
    "        Return a list of `shapely.Polygon`s representing each ring.\n",
    "        \"\"\"\n",
    "        return [Polygon(r) for r in self.rings()]\n",
    "    \n",
    "    def poly_geodataframe(self):\n",
    "        \"\"\"\n",
    "        Return a `geopandas.GeoDataFrame` of polygons.\n",
    "        \"\"\"\n",
    "        return gpd.GeoDataFrame({'geometry': self.polygons()})"
   ]
  },
  {
   "cell_type": "code",
   "execution_count": 6,
   "metadata": {},
   "outputs": [],
   "source": [
    "# G = nx.read_shp(lnj_fn).to_undirected()\n",
    "G = CoastLine.read_shp(lnj_fn)\n",
    "polygdf = G.poly_geodataframe()"
   ]
  },
  {
   "cell_type": "code",
   "execution_count": 7,
   "metadata": {},
   "outputs": [
    {
     "data": {
      "text/plain": [
       "<matplotlib.axes._subplots.AxesSubplot at 0x10ed809d0>"
      ]
     },
     "execution_count": 7,
     "metadata": {},
     "output_type": "execute_result"
    },
    {
     "data": {
      "image/png": "[encoded data removed]",
      "text/plain": [
       "<Figure size 432x288 with 1 Axes>"
      ]
     },
     "metadata": {},
     "output_type": "display_data"
    }
   ],
   "source": [
    "polygdf.plot()"
   ]
  },
  {
   "cell_type": "markdown",
   "metadata": {},
   "source": [
    "## Stackexchage Example"
   ]
  },
  {
   "cell_type": "code",
   "execution_count": 8,
   "metadata": {},
   "outputs": [
    {
     "data": {
      "text/plain": [
       "<matplotlib.axes._subplots.AxesSubplot at 0x10ee7ad10>"
      ]
     },
     "execution_count": 8,
     "metadata": {},
     "output_type": "execute_result"
    },
    {
     "data": {
      "image/png": "[encoded data removed]",
      "text/plain": [
       "<Figure size 432x288 with 1 Axes>"
      ]
     },
     "metadata": {},
     "output_type": "display_data"
    }
   ],
   "source": [
    "edge_list = [\n",
    "    ((5, -1), (5, -2)),\n",
    "    ((6, -1), (5, -1)),\n",
    "    ((1, 0), (1, 1)),\n",
    "    ((4, -3), (2, -3)),\n",
    "    ((2, -2), (1, -2)),\n",
    "    ((9, 0), (9, 1)),\n",
    "    ((2, 1), (2, 2)),\n",
    "    ((0, -1), (0, 0)),\n",
    "    ((5, 0), (6, 0)),\n",
    "    ((2, -3), (2, -2)),\n",
    "    ((6, 0), (6, -1)),\n",
    "    ((4, 1), (5, 1)),\n",
    "    ((10, -1), (8, -1)),\n",
    "    ((10, 1), (10, -1)),\n",
    "    ((2, 2), (4, 2)),\n",
    "    ((5, 1), (5, 0)),\n",
    "    ((8, -1), (8, 0)),\n",
    "    ((9, 1), (10, 1)),\n",
    "    ((8, 0), (9, 0)),\n",
    "    ((1, -2), (1, -1)),\n",
    "    ((1, 1), (2, 1)),\n",
    "    ((5, -2), (4, -2)),\n",
    "    ((4, 2), (4, 1)),\n",
    "    ((4, -2), (4, -3)),\n",
    "    ((1, -1), (0, -1)),\n",
    "    ((0, 0), (1, 0)) ]\n",
    "\n",
    "eG = CoastLine()\n",
    "\n",
    "for e in edge_list:\n",
    "    eG.add_edge(*e)\n",
    "\n",
    "eG.poly_geodataframe().plot()"
   ]
  },
  {
   "cell_type": "markdown",
   "metadata": {},
   "source": [
    "## Check the pyriv Version"
   ]
  },
  {
   "cell_type": "code",
   "execution_count": 9,
   "metadata": {},
   "outputs": [],
   "source": [
    "import pyriv"
   ]
  },
  {
   "cell_type": "code",
   "execution_count": 10,
   "metadata": {},
   "outputs": [
    {
     "data": {
      "text/plain": [
       "<matplotlib.axes._subplots.AxesSubplot at 0x10ee546d0>"
      ]
     },
     "execution_count": 10,
     "metadata": {},
     "output_type": "execute_result"
    },
    {
     "data": {
      "image/png": "[encoded data removed]",
      "text/plain": [
       "<Figure size 432x288 with 1 Axes>"
      ]
     },
     "metadata": {},
     "output_type": "display_data"
    }
   ],
   "source": [
    "clg = pyriv.CoastLineGraph.read_shp(lnj_fn)\n",
    "clg.poly_geodataframe().plot()"
   ]
  },
  {
   "cell_type": "code",
   "execution_count": null,
   "metadata": {},
   "outputs": [],
   "source": []
  }
 ],
 "metadata": {
  "kernelspec": {
   "display_name": "Python 2",
   "language": "python",
   "name": "python2"
  },
  "language_info": {
   "codemirror_mode": {
    "name": "ipython",
    "version": 2
   },
   "file_extension": ".py",
   "mimetype": "text/x-python",
   "name": "python",
   "nbconvert_exporter": "python",
   "pygments_lexer": "ipython2",
   "version": "2.7.14"
  }
 },
 "nbformat": 4,
 "nbformat_minor": 2
}
