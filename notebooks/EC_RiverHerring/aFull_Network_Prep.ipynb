{
 "cells": [
  {
   "cell_type": "markdown",
   "metadata": {},
   "source": [
    "# Swimmable Distance Matrix Network Preparation\n",
    "\n",
    "To calculate a matrix of simmable distances between sites, we need a network that includes rivers and potential paths through the ocean between river mouths. This notebook documents the preparation of such a network for the east coast of the US and Canada."
   ]
  },
  {
   "cell_type": "code",
   "execution_count": 1,
   "metadata": {},
   "outputs": [
    {
     "name": "stdout",
     "output_type": "stream",
     "text": [
      "Populating the interactive namespace from numpy and matplotlib\n"
     ]
    }
   ],
   "source": [
    "%pylab inline\n",
    "import pyriv\n",
    "from pyriv import rg_light as rgl\n",
    "import networkx as nx\n",
    "import pandas as pd\n",
    "import geopandas as gpd\n",
    "import mplleaflet\n",
    "import os\n",
    "import pickle\n",
    "from shapely.geometry import Point, LinearRing, Polygon, LineString\n",
    "\n",
    "data_dir = '/Users/jkibele/Documents/RiverDistEastCoast/data/'\n",
    "# Small short-cut functions\n",
    "fp = lambda s: os.path.join(data_dir, s)\n",
    "gdf_from_geoms = lambda gs: gpd.GeoDataFrame({'geometry': gs})\n",
    "def gdf_merge(gdf_list):\n",
    "    gdf = gpd.GeoDataFrame( pd.concat(gdf_list, ignore_index=True) )\n",
    "    gdf.crs = gdf_list[0].crs\n",
    "    return gdf"
   ]
  },
  {
   "cell_type": "markdown",
   "metadata": {},
   "source": [
    "The `pyriv` version used here is a pre-release version tagged as v0.3.0 in the repository."
   ]
  },
  {
   "cell_type": "markdown",
   "metadata": {},
   "source": [
    "The latest version (2.0) of NetworkX breaks my code, so I've purposely downgraded to version 1.11. The longer term solution will be to make `pyriv` compatible with the newer version. I'll print out the versions of other major dependencies here too."
   ]
  },
  {
   "cell_type": "code",
   "execution_count": 2,
   "metadata": {},
   "outputs": [
    {
     "name": "stdout",
     "output_type": "stream",
     "text": [
      "NetworkX version: 1.11, Pandas version: 0.20.3, GeoPandas version: 0.3.0\n"
     ]
    }
   ],
   "source": [
    "print \"NetworkX version: {}, Pandas version: {}, GeoPandas version: {}\".format(nx.__version__, pd.__version__, gpd.__version__)"
   ]
  },
  {
   "cell_type": "markdown",
   "metadata": {},
   "source": [
    "## Prepare Study Area Land Polygon\n",
    "\n",
    "The US shapefile came from the [US Census Bureau](https://www.census.gov/geo/maps-data/data/cbf/cbf_state.html). I drew the study area polygon in QGIS."
   ]
  },
  {
   "cell_type": "code",
   "execution_count": 3,
   "metadata": {},
   "outputs": [],
   "source": [
    "sa = gpd.read_file(fp('studyArea.shp')).to_crs(epsg=5070)\n",
    "usa_fn = fp('cb_2016_us_state_500k/cb_2016_us_state_500k.shp')\n",
    "can_fn = fp('Canada.shp')\n",
    "usa = gpd.read_file(usa_fn).to_crs(epsg=5070)\n",
    "can = gpd.read_file(can_fn).to_crs(epsg=5070)"
   ]
  },
  {
   "cell_type": "markdown",
   "metadata": {},
   "source": [
    "Merge US and Canda shapes."
   ]
  },
  {
   "cell_type": "code",
   "execution_count": 4,
   "metadata": {},
   "outputs": [],
   "source": [
    "keep_cols = ['NAME', 'geometry']\n",
    "usacan = gpd.GeoDataFrame( pd.concat([usa[keep_cols], can[keep_cols]]) )\n",
    "usacan.crs = usa.crs"
   ]
  },
  {
   "cell_type": "markdown",
   "metadata": {},
   "source": [
    "Capture geometries that intersect the study region, combine them into a single geometry, and then use the study region to clip that geometry."
   ]
  },
  {
   "cell_type": "code",
   "execution_count": 5,
   "metadata": {},
   "outputs": [],
   "source": [
    "usacan['in_sa'] = usacan.intersects(sa.geometry.iloc[0])\n",
    "ecoast = usacan[usacan.in_sa].copy()\n",
    "ec_geom = ecoast.unary_union\n",
    "ec_sa_geom = ec_geom.intersection(sa.geometry.iloc[0])"
   ]
  },
  {
   "cell_type": "markdown",
   "metadata": {},
   "source": [
    "Save the geometry and view it."
   ]
  },
  {
   "cell_type": "code",
   "execution_count": 6,
   "metadata": {},
   "outputs": [
    {
     "data": {
      "image/png": "[encoded data removed]",
      "text/plain": [
       "<matplotlib.figure.Figure at 0x1153956d0>"
      ]
     },
     "metadata": {},
     "output_type": "display_data"
    }
   ],
   "source": [
    "land_full = gpd.GeoDataFrame({'geometry': ec_sa_geom})\n",
    "land_full.crs = usa.crs\n",
    "land_full.to_file(fp('output/land_fullres_5070.shp'))\n",
    "ax = land_full.plot()\n",
    "ax.set_axis_off()"
   ]
  },
  {
   "cell_type": "markdown",
   "metadata": {},
   "source": [
    "## Stream Subsetting"
   ]
  },
  {
   "cell_type": "code",
   "execution_count": 7,
   "metadata": {},
   "outputs": [],
   "source": [
    "NE01fn = fp('NationalStreamInternetProject/Flowline_NE01_NSI.shp')\n",
    "MA02fn = fp('NationalStreamInternetProject/Flowline_MA02_NSI.shp')\n",
    "SA03Nfn = fp('NationalStreamInternetProject/Flowline_SA03N_NSI.shp')\n",
    "SA03Sfn = fp('NationalStreamInternetProject/Flowline_SA03S_NSI.shp')\n",
    "ne01 = gpd.read_file(NE01fn)\n",
    "ma02 = gpd.read_file(MA02fn)\n",
    "sa03n = gpd.read_file(SA03Nfn)\n",
    "sa03s = gpd.read_file(SA03Sfn)"
   ]
  },
  {
   "cell_type": "code",
   "execution_count": 8,
   "metadata": {},
   "outputs": [
    {
     "name": "stdout",
     "output_type": "stream",
     "text": [
      "CPU times: user 1min 18s, sys: 1.89 s, total: 1min 20s\n",
      "Wall time: 1min 23s\n"
     ]
    }
   ],
   "source": [
    "%%time\n",
    "streams = gdf_merge([ne01, ma02, sa03n, sa03s]).to_crs(epsg=5070)\n",
    "streams_sa = streams[streams.within(sa.geometry.item())]"
   ]
  },
  {
   "cell_type": "markdown",
   "metadata": {},
   "source": [
    "This looks like a solid polygon, but it's just because there are so many rivers. It's actually line features."
   ]
  },
  {
   "cell_type": "code",
   "execution_count": 9,
   "metadata": {},
   "outputs": [
    {
     "data": {
      "image/png": "[encoded data removed]",
      "text/plain": [
       "<matplotlib.figure.Figure at 0x1153952d0>"
      ]
     },
     "metadata": {},
     "output_type": "display_data"
    }
   ],
   "source": [
    "ax = streams_sa.plot()\n",
    "ax.set_axis_off()"
   ]
  },
  {
   "cell_type": "code",
   "execution_count": 10,
   "metadata": {},
   "outputs": [],
   "source": [
    "streams_sa.to_file(fp('output/NSI_flowlines_sa_clip.shp'))"
   ]
  },
  {
   "cell_type": "markdown",
   "metadata": {},
   "source": [
    "## Preparing the Coastal Network\n",
    "\n",
    "This was very processor intensive, so I ran this on the NCEAS analytical server using 20 processors. Even with that many processors it took about 5 hours. This was the script I used:\n",
    "\n",
    "```python\n",
    "import pandas as pd\n",
    "import geopandas as gpd\n",
    "import os\n",
    "from pyriv.coastal import Land\n",
    "import networkx as nx\n",
    "\n",
    "## Setup: ######\n",
    "data_dir = '/home/jkibele/Documents/ECRiverData/'\n",
    "#data_dir = '/Users/jkibele/Documents/RiverDistEastCoast/data/'\n",
    "fullpath = lambda s: os.path.join(data_dir, s)\n",
    "full_land_fn = fullpath('land_fullres_5070.shp')\n",
    "msq_threshold = 4e6\n",
    "simp_num = 500\n",
    "n_processors = 20\n",
    "\n",
    "land_out_fn = fullpath('land{}m_5070.shp'.format(simp_num))\n",
    "gpic_out_fn = fullpath('land{}m_5070.gpickle'.format(simp_num))\n",
    "\n",
    "# read in the full resolution land shapefile\n",
    "full_land = gpd.read_file(full_land_fn)\n",
    "# dump small polygons and simplify the remains\n",
    "big_enough = full_land.geometry.area > msq_threshold\n",
    "lowres_land = full_land[big_enough].simplify(simp_num).buffer(0)\n",
    "lowres_land.to_file(land_out_fn)\n",
    "# generate the graph\n",
    "lnd = Land(land_out_fn)\n",
    "ecgraph = lnd.graph(n_jobs=n_processors)\n",
    "nx.write_gpickle(ecgraph, gpic_out_fn)\n",
    "```\n",
    "\n",
    "This was run as a background process by issuing the following shell command in the same directory as the script:\n",
    "\n",
    "```\n",
    "python ECLandPrep2.py &\n",
    "```\n",
    "\n",
    "The `&` end makes it a background process. When the script was done, I downloaded the resulting shapefile and graph_pickle file."
   ]
  },
  {
   "cell_type": "markdown",
   "metadata": {},
   "source": [
    "## Further Subsetting and Completing Streams\n",
    "\n",
    "This is the most complicated part of the process, and it's required because there's a mismatch between the streams dataset and the coastline of the land polygon. The biggest mismatch is in the estuaries. Many stream features end at the top (freshwater end) of an estuary while the land polygon considers the downstream portion of the estuary to be the coast. So there are 3 potential courses of action I need to consider for each site location:\n",
    "\n",
    "1. Some points (i.e., sites) are not on land (call them '**ocean points**')\n",
    "2. Others are (or will have paths to points that will be) close enough to the coast (< 4 km) that I will just **auto complete** them straight to the coast\n",
    "3. Others are too far from the coast (or lead to river endpoints too far from the coast) to auto complete. These I'll need to **draw** a path for in QGIS\n",
    "\n",
    "In order to figure out where I should auto complete, where I should draw, and where I'm done because I already have ocean points, I need a set of points to test. Where the original site point is on land, I need to test the end point if the site was close to a good river node but I'll need to test the original point if it's not. So, I need a column of point geometries representing river path end points or original points as is appropriate.\n",
    "\n",
    "I'll use the original if it is not on land or if it is on land and not close to a good node. I'll use the end point if the original is on land and close to a good node. A 'good node' is not a dead end node (these lead no closer to the coast)."
   ]
  },
  {
   "cell_type": "markdown",
   "metadata": {},
   "source": [
    "### Identify Test Points"
   ]
  },
  {
   "cell_type": "code",
   "execution_count": 11,
   "metadata": {},
   "outputs": [],
   "source": [
    "# Load the simplified land polygon\n",
    "lndfn = fp('land500m_5070.shp')\n",
    "lnddf = gpd.read_file(lndfn)\n",
    "# Load the study location sites\n",
    "ale_fn = fp('reproj/locations_ALE_5070.shp')\n",
    "bbh_fn = fp('reproj/locations_BBH_5070.shp')\n",
    "ale = gpd.read_file(ale_fn)\n",
    "bbh = gpd.read_file(bbh_fn)"
   ]
  },
  {
   "cell_type": "markdown",
   "metadata": {},
   "source": [
    "A site was accidentally left out of the ALE sites, but is (correctly) included in the BBH sites. I need to copy it from BBH to ALE and put it in the correct position so the site order is maintained in the final distance matrix output. The site code is QUI, and it should occur between MBR and HOU in ALE."
   ]
  },
  {
   "cell_type": "code",
   "execution_count": 12,
   "metadata": {},
   "outputs": [
    {
     "data": {
      "text/html": [
       "<div>\n",
       "<style>\n",
       "    .dataframe thead tr:only-child th {\n",
       "        text-align: right;\n",
       "    }\n",
       "\n",
       "    .dataframe thead th {\n",
       "        text-align: left;\n",
       "    }\n",
       "\n",
       "    .dataframe tbody tr th {\n",
       "        vertical-align: top;\n",
       "    }\n",
       "</style>\n",
       "<table border=\"1\" class=\"dataframe\">\n",
       "  <thead>\n",
       "    <tr style=\"text-align: right;\">\n",
       "      <th></th>\n",
       "      <th>Name</th>\n",
       "      <th>Code</th>\n",
       "      <th>Lat</th>\n",
       "      <th>Lon</th>\n",
       "      <th>geometry</th>\n",
       "    </tr>\n",
       "  </thead>\n",
       "  <tbody>\n",
       "    <tr>\n",
       "      <th>21</th>\n",
       "      <td>Quinnipiac River</td>\n",
       "      <td>QUI</td>\n",
       "      <td>41.363467</td>\n",
       "      <td>-72.876988</td>\n",
       "      <td>POINT (1900689.96184805 2272064.221118273)</td>\n",
       "    </tr>\n",
       "  </tbody>\n",
       "</table>\n",
       "</div>"
      ],
      "text/plain": [
       "                Name Code        Lat        Lon  \\\n",
       "21  Quinnipiac River  QUI  41.363467 -72.876988   \n",
       "\n",
       "                                      geometry  \n",
       "21  POINT (1900689.96184805 2272064.221118273)  "
      ]
     },
     "execution_count": 12,
     "metadata": {},
     "output_type": "execute_result"
    }
   ],
   "source": [
    "bbh[bbh.Code=='QUI']"
   ]
  },
  {
   "cell_type": "code",
   "execution_count": 13,
   "metadata": {},
   "outputs": [
    {
     "data": {
      "text/html": [
       "<div>\n",
       "<style>\n",
       "    .dataframe thead tr:only-child th {\n",
       "        text-align: right;\n",
       "    }\n",
       "\n",
       "    .dataframe thead th {\n",
       "        text-align: left;\n",
       "    }\n",
       "\n",
       "    .dataframe tbody tr th {\n",
       "        vertical-align: top;\n",
       "    }\n",
       "</style>\n",
       "<table border=\"1\" class=\"dataframe\">\n",
       "  <thead>\n",
       "    <tr style=\"text-align: right;\">\n",
       "      <th></th>\n",
       "      <th>Name</th>\n",
       "      <th>Code</th>\n",
       "      <th>Lat</th>\n",
       "      <th>Lon</th>\n",
       "      <th>geometry</th>\n",
       "    </tr>\n",
       "  </thead>\n",
       "  <tbody>\n",
       "    <tr>\n",
       "      <th>78</th>\n",
       "      <td>Quinnipiac River</td>\n",
       "      <td>MBR</td>\n",
       "      <td>41.342591</td>\n",
       "      <td>-72.311323</td>\n",
       "      <td>POINT (1946808.420572187 2281248.633303261)</td>\n",
       "    </tr>\n",
       "    <tr>\n",
       "      <th>80</th>\n",
       "      <td>Housatonic River</td>\n",
       "      <td>HOU</td>\n",
       "      <td>41.241190</td>\n",
       "      <td>-73.097933</td>\n",
       "      <td>POINT (1886150.079282553 2254373.303996091)</td>\n",
       "    </tr>\n",
       "  </tbody>\n",
       "</table>\n",
       "</div>"
      ],
      "text/plain": [
       "                Name Code        Lat        Lon  \\\n",
       "78  Quinnipiac River  MBR  41.342591 -72.311323   \n",
       "80  Housatonic River  HOU  41.241190 -73.097933   \n",
       "\n",
       "                                       geometry  \n",
       "78  POINT (1946808.420572187 2281248.633303261)  \n",
       "80  POINT (1886150.079282553 2254373.303996091)  "
      ]
     },
     "execution_count": 13,
     "metadata": {},
     "output_type": "execute_result"
    }
   ],
   "source": [
    "scds = ['MBR','HOU']\n",
    "ale.query(\"Code in @scds\")"
   ]
  },
  {
   "cell_type": "code",
   "execution_count": 14,
   "metadata": {},
   "outputs": [],
   "source": [
    "def insert_row(idx, df, df_insert):\n",
    "    dfA = df.loc[:idx, ]\n",
    "    dfB = df.loc[idx+1:, ]\n",
    "    df = dfA.append(df_insert).append(dfB).reset_index(drop = True)\n",
    "    return df"
   ]
  },
  {
   "cell_type": "code",
   "execution_count": 15,
   "metadata": {},
   "outputs": [],
   "source": [
    "if 'QUI' not in ale.Code.tolist():\n",
    "    print \"Inserting\"\n",
    "    ale = insert_row(78, ale, bbh.query(\"Code == 'QUI'\"))"
   ]
  },
  {
   "cell_type": "code",
   "execution_count": 16,
   "metadata": {},
   "outputs": [
    {
     "data": {
      "text/html": [
       "<div>\n",
       "<style>\n",
       "    .dataframe thead tr:only-child th {\n",
       "        text-align: right;\n",
       "    }\n",
       "\n",
       "    .dataframe thead th {\n",
       "        text-align: left;\n",
       "    }\n",
       "\n",
       "    .dataframe tbody tr th {\n",
       "        vertical-align: top;\n",
       "    }\n",
       "</style>\n",
       "<table border=\"1\" class=\"dataframe\">\n",
       "  <thead>\n",
       "    <tr style=\"text-align: right;\">\n",
       "      <th></th>\n",
       "      <th>Name</th>\n",
       "      <th>Code</th>\n",
       "      <th>Lat</th>\n",
       "      <th>Lon</th>\n",
       "      <th>geometry</th>\n",
       "    </tr>\n",
       "  </thead>\n",
       "  <tbody>\n",
       "    <tr>\n",
       "      <th>78</th>\n",
       "      <td>Quinnipiac River</td>\n",
       "      <td>MBR</td>\n",
       "      <td>41.342591</td>\n",
       "      <td>-72.311323</td>\n",
       "      <td>POINT (1946808.420572187 2281248.633303261)</td>\n",
       "    </tr>\n",
       "    <tr>\n",
       "      <th>79</th>\n",
       "      <td>Quinnipiac River</td>\n",
       "      <td>QUI</td>\n",
       "      <td>41.363467</td>\n",
       "      <td>-72.876988</td>\n",
       "      <td>POINT (1900689.96184805 2272064.221118273)</td>\n",
       "    </tr>\n",
       "    <tr>\n",
       "      <th>80</th>\n",
       "      <td>Housatonic River</td>\n",
       "      <td>HOU</td>\n",
       "      <td>41.241190</td>\n",
       "      <td>-73.097933</td>\n",
       "      <td>POINT (1886150.079282553 2254373.303996091)</td>\n",
       "    </tr>\n",
       "    <tr>\n",
       "      <th>81</th>\n",
       "      <td>Pequonnock River</td>\n",
       "      <td>PEQ</td>\n",
       "      <td>41.196911</td>\n",
       "      <td>-73.186374</td>\n",
       "      <td>POINT (1880185.68025006 2247806.308259353)</td>\n",
       "    </tr>\n",
       "  </tbody>\n",
       "</table>\n",
       "</div>"
      ],
      "text/plain": [
       "                Name Code        Lat        Lon  \\\n",
       "78  Quinnipiac River  MBR  41.342591 -72.311323   \n",
       "79  Quinnipiac River  QUI  41.363467 -72.876988   \n",
       "80  Housatonic River  HOU  41.241190 -73.097933   \n",
       "81  Pequonnock River  PEQ  41.196911 -73.186374   \n",
       "\n",
       "                                       geometry  \n",
       "78  POINT (1946808.420572187 2281248.633303261)  \n",
       "79   POINT (1900689.96184805 2272064.221118273)  \n",
       "80  POINT (1886150.079282553 2254373.303996091)  \n",
       "81   POINT (1880185.68025006 2247806.308259353)  "
      ]
     },
     "execution_count": 16,
     "metadata": {},
     "output_type": "execute_result"
    }
   ],
   "source": [
    "ale.loc[78:81]"
   ]
  },
  {
   "cell_type": "code",
   "execution_count": 17,
   "metadata": {},
   "outputs": [
    {
     "name": "stdout",
     "output_type": "stream",
     "text": [
      "Of 145 total sites, 137 are within the land polygon.\n"
     ]
    }
   ],
   "source": [
    "# Add a species column\n",
    "bbh['species'] = \"BBH\"\n",
    "ale['species'] = \"ALE\"\n",
    "sites = gdf_merge([ale, bbh])\n",
    "# Test the sites to see which are on the land polygon\n",
    "on_land = lambda g: not lnddf.disjoint(g).all()\n",
    "sites['on_land'] = sites.geometry.apply(on_land)\n",
    "print \"Of {} total sites, {} are within the land polygon.\".format(len(sites), sites.on_land.sum())"
   ]
  },
  {
   "cell_type": "markdown",
   "metadata": {},
   "source": [
    "Load the clipped streams that I created earlier into a `RiverGraph` object from the pyriv library. This will allow me to trace rivers down stream to their end points."
   ]
  },
  {
   "cell_type": "code",
   "execution_count": 18,
   "metadata": {},
   "outputs": [
    {
     "name": "stdout",
     "output_type": "stream",
     "text": [
      "CPU times: user 1min 9s, sys: 2.9 s, total: 1min 12s\n",
      "Wall time: 1min 14s\n"
     ]
    }
   ],
   "source": [
    "%%time\n",
    "str_gr = nx.read_shp(fp('output/NSI_flowlines_sa_clip.shp'))\n",
    "rgr = rgl.RiverGraph(data=str_gr)"
   ]
  },
  {
   "cell_type": "code",
   "execution_count": 19,
   "metadata": {},
   "outputs": [
    {
     "name": "stdout",
     "output_type": "stream",
     "text": [
      "CPU times: user 2min 21s, sys: 3.97 s, total: 2min 25s\n",
      "Wall time: 2min 30s\n"
     ]
    }
   ],
   "source": [
    "%%time\n",
    "distdf = rgl.deadend_distances(sites, rgr, node_distance=True)"
   ]
  },
  {
   "cell_type": "code",
   "execution_count": 20,
   "metadata": {},
   "outputs": [],
   "source": [
    "def nearest_node_distance(rivgraph, pnt):\n",
    "    clnd = rivgraph.closest_node(pnt)\n",
    "    return Point(clnd).distance(pnt)\n",
    "\n",
    "def is_near_good_node(rivgraph, pnt, threshold=4000):\n",
    "    clnd = rivgraph.closest_node(pnt)\n",
    "    close_enough = Point(clnd).distance(pnt) <= threshold\n",
    "    good_node = not rivgraph.is_deadend(clnd)\n",
    "    return good_node & close_enough\n",
    "\n",
    "is_ngn = lambda p: is_near_good_node(rgr, p)\n",
    "use_original = lambda p: (not on_land(p)) | (on_land(p) & (not is_ngn(p)))\n",
    "use_endpnt = lambda p: on_land(p) & is_ngn(p)\n",
    "\n",
    "distdf['is_ngn'] = distdf.geometry.apply(is_ngn)"
   ]
  },
  {
   "cell_type": "code",
   "execution_count": 21,
   "metadata": {},
   "outputs": [
    {
     "name": "stdout",
     "output_type": "stream",
     "text": [
      "CPU times: user 1min 25s, sys: 2.21 s, total: 1min 27s\n",
      "Wall time: 1min 30s\n"
     ]
    }
   ],
   "source": [
    "%%time\n",
    "distdf['testpnt_type'] = 'derp'\n",
    "distdf.loc[distdf.geometry.apply(use_original), 'testpnt_type'] = 'original'\n",
    "distdf.loc[distdf.geometry.apply(use_endpnt), 'testpnt_type'] = 'endpnt'\n",
    "distdf.testpnt_type.value_counts()"
   ]
  },
  {
   "cell_type": "code",
   "execution_count": 22,
   "metadata": {},
   "outputs": [],
   "source": [
    "path_end_pnt = lambda pth: Point(pth.coords[-1])\n",
    "ep_ind = distdf.testpnt_type == 'endpnt'\n",
    "distdf.loc[~ep_ind, 'testpnt'] = distdf.loc[~ep_ind, 'geometry']\n",
    "distdf.loc[ep_ind, 'testpnt'] = distdf.loc[ep_ind, 'path'].apply(path_end_pnt)"
   ]
  },
  {
   "cell_type": "markdown",
   "metadata": {},
   "source": [
    "### Decide What to do with each point\n",
    "\n",
    "For test points in ocean, no action is required. For test points near the coast, I can auto complete (draw short line segments to combine with my network to bridge from river to coastal network). For test points on land and far from the coast, I will need to draw in the missing rivers in QGIS."
   ]
  },
  {
   "cell_type": "code",
   "execution_count": 23,
   "metadata": {},
   "outputs": [
    {
     "data": {
      "text/plain": [
       "auto       66\n",
       "nothing    43\n",
       "draw       36\n",
       "Name: action, dtype: int64"
      ]
     },
     "execution_count": 23,
     "metadata": {},
     "output_type": "execute_result"
    }
   ],
   "source": [
    "in_ocean = lambda p: (not on_land(p))\n",
    "close_to_coast = lambda p: rgl.nearest_coast_pnt(lnddf, p, return_dist=True) <= 4000\n",
    "def find_action(testpnt):\n",
    "    if in_ocean(testpnt):\n",
    "        return 'nothing'\n",
    "    elif close_to_coast(testpnt):\n",
    "        return 'auto'\n",
    "    else:\n",
    "        return 'draw'\n",
    "    \n",
    "distdf['action'] = distdf.testpnt.apply(find_action)\n",
    "distdf.action.value_counts()"
   ]
  },
  {
   "cell_type": "markdown",
   "metadata": {},
   "source": [
    "### Auto Complete"
   ]
  },
  {
   "cell_type": "code",
   "execution_count": 24,
   "metadata": {},
   "outputs": [],
   "source": [
    "auto_comp = lambda pth: rgl.path_completion(lnddf, pth)\n",
    "gdf_from_geoms = lambda gs: gpd.GeoDataFrame({'geometry': gs})\n",
    "auto_comp_df = gdf_from_geoms(distdf.query(\"action=='auto'\").testpnt.apply(auto_comp))\n",
    "auto_comp_df.crs = distdf.crs\n",
    "auto_comp_df.to_file(fp('output/auto_complete.shp'))"
   ]
  },
  {
   "cell_type": "markdown",
   "metadata": {},
   "source": [
    "### Draw\n",
    "\n",
    "I'll export the points that I need to draw paths for. I'll make sure to draw with snapping turned on, and I'll make sure to draw from the sites toward the ocean in case I need to use the paths in a directed graph. I also need to draw a connection for the East River."
   ]
  },
  {
   "cell_type": "code",
   "execution_count": 25,
   "metadata": {},
   "outputs": [],
   "source": [
    "pnts2draw = distdf.set_geometry('testpnt').query(\"action=='draw'\")[['testpnt','Code','species']]\n",
    "pnts2draw.to_file(fp('points_to_draw_from.shp'))"
   ]
  },
  {
   "cell_type": "markdown",
   "metadata": {},
   "source": [
    "After drawing in QGIS (including the East River segement) load the drawn lines."
   ]
  },
  {
   "cell_type": "code",
   "execution_count": 26,
   "metadata": {},
   "outputs": [],
   "source": [
    "drawn = gpd.read_file(fp('draw_qgis_eastriver.shp'))\n",
    "# drawn = gpd.read_file(fp('draw_qgis.shp'))"
   ]
  },
  {
   "cell_type": "markdown",
   "metadata": {},
   "source": [
    "Double check to make sure I've gotten all the points I meant to:"
   ]
  },
  {
   "cell_type": "code",
   "execution_count": 27,
   "metadata": {},
   "outputs": [
    {
     "name": "stdout",
     "output_type": "stream",
     "text": [
      "0 points to draw from do not touch any drawn lines.\n"
     ]
    }
   ],
   "source": [
    "touch_line = pnts2draw.geometry.apply(lambda p: (drawn.geometry.distance(p) < 0.0001).any())\n",
    "print \"{} points to draw from do not touch any drawn lines.\".format((~touch_line).sum())"
   ]
  },
  {
   "cell_type": "markdown",
   "metadata": {},
   "source": [
    "Double check to make sure the end points of my drawn points are not on land. ...with the exception of 4 segements that are connected up an estuary."
   ]
  },
  {
   "cell_type": "code",
   "execution_count": 28,
   "metadata": {},
   "outputs": [
    {
     "name": "stdout",
     "output_type": "stream",
     "text": [
      "4 drawn path end points are on land.\n"
     ]
    }
   ],
   "source": [
    "draw_eps = drawn.geometry.apply(path_end_pnt)\n",
    "lndgeom = lnddf.unary_union\n",
    "lnd_shrink = lndgeom.buffer(-1)\n",
    "draw_ep_onland = draw_eps.geometry.apply(lnd_shrink.intersects)\n",
    "print \"{} drawn path end points are on land.\".format(draw_ep_onland.sum())"
   ]
  },
  {
   "cell_type": "markdown",
   "metadata": {},
   "source": [
    "### Subset the Study Area River Graph\n",
    "\n",
    "I'll just keep the rivers I know I need. This will keep the data set a bit smaller, and these are the only rivers that I've verified get to the coast anyway."
   ]
  },
  {
   "cell_type": "code",
   "execution_count": 29,
   "metadata": {},
   "outputs": [],
   "source": [
    "nxsites = sites[sites.geometry.apply(use_endpnt)].copy()\n",
    "nxsites['start_node'] = nxsites.geometry.apply(lambda g: rgr.closest_node(g))\n",
    "subgraphs = nxsites.start_node.apply(lambda n: rgr.reachable_subgraph(n)).tolist()\n",
    "subout = nx.compose_all(subgraphs)\n",
    "nx.write_gpickle(subout, fp('output/river_subset.gpickle'))"
   ]
  },
  {
   "cell_type": "markdown",
   "metadata": {},
   "source": [
    "### Attach the Auto-completed and Manually Drawn Bits\n",
    "\n",
    "I'll leave the full river graph as a directed graph for now. That way it can be used to find the distance downstream to the ocean from each site. I'll add in the reverse directions when I've got it fully assembled."
   ]
  },
  {
   "cell_type": "code",
   "execution_count": 30,
   "metadata": {},
   "outputs": [],
   "source": [
    "drawn_graph = nx.read_shp(fp('draw_qgis.shp'))\n",
    "auto_graph = nx.read_shp(fp('auto_complete.shp'))\n",
    "full_rgr = rgl.RiverGraph(data=nx.compose_all([subout, auto_graph, drawn_graph])).weight_edges()"
   ]
  },
  {
   "cell_type": "markdown",
   "metadata": {},
   "source": [
    "### Rounding!\n",
    "\n",
    "Such a simple thing. When combining graphs, floating point error was causing the same point to come through as different nodes. "
   ]
  },
  {
   "cell_type": "code",
   "execution_count": 31,
   "metadata": {},
   "outputs": [],
   "source": [
    "full_rgr = pyriv.river_graph.node_rounding(full_rgr)\n",
    "nx.write_gpickle(full_rgr, fp('output/full_rgr.gpickle'))\n",
    "# write shapefile too\n",
    "nx.write_shp(full_rgr, fp('full_rgr/'))\n",
    "full_rgr_df = gpd.read_file(fp('full_rgr/edges.shp'))\n",
    "full_rgr_df.crs = sites.crs"
   ]
  },
  {
   "cell_type": "markdown",
   "metadata": {},
   "source": [
    "## Assemble the Whole Graph\n",
    "\n",
    "Adde the assembled river graph to the coastal graph and reverse the graphs and the internal path segments to allow navigation up and down stream."
   ]
  },
  {
   "cell_type": "code",
   "execution_count": 32,
   "metadata": {},
   "outputs": [],
   "source": [
    "from pyriv.rg_light import json_linestring_reverse, full_reverse, add_reverse\n",
    "coast_graph = pyriv.river_graph.node_rounding(nx.read_gpickle(fp('land500m_5070.gpickle')))"
   ]
  },
  {
   "cell_type": "code",
   "execution_count": 33,
   "metadata": {},
   "outputs": [],
   "source": [
    "total_multidigraph = add_reverse(nx.compose(nx.DiGraph(full_rgr), coast_graph.to_directed()))\n",
    "total_unlinked = pyriv.coastal.Land(lnddf, graph=total_multidigraph)"
   ]
  },
  {
   "cell_type": "markdown",
   "metadata": {},
   "source": [
    "### Identify the Link Nodes\n",
    "\n",
    "The nodes that link the rivers to the coastal graph will need to have edges calculated. So those nodes need to be identified."
   ]
  },
  {
   "cell_type": "markdown",
   "metadata": {},
   "source": [
    "First, I need to make a new distance data frame using the assembled full river network."
   ]
  },
  {
   "cell_type": "code",
   "execution_count": 34,
   "metadata": {},
   "outputs": [],
   "source": [
    "newdist = rgl.deadend_distances(sites, full_rgr, True)"
   ]
  },
  {
   "cell_type": "code",
   "execution_count": 36,
   "metadata": {},
   "outputs": [],
   "source": [
    "myround = lambda f: round(f, 3)\n",
    "tround = lambda t: tuple([myround(f) for f in t])\n",
    "path_end_node = lambda pth: tround(pth.coords[-1])\n",
    "oceanpnts = newdist.query(\"node_dist >= 4000\").geometry.apply(lambda p: tround(pyriv.point_to_tuple(p)))\n",
    "riv_ends = newdist.query(\"node_dist < 4000\").path.apply(path_end_node)\n",
    "link_nodes = pd.concat([oceanpnts, riv_ends], ignore_index=True).unique()\n",
    "pickle.dump(link_nodes, open(fp('output/link_nodes.pickle'), 'wb'))"
   ]
  },
  {
   "cell_type": "code",
   "execution_count": 37,
   "metadata": {},
   "outputs": [
    {
     "name": "stdout",
     "output_type": "stream",
     "text": [
      "CPU times: user 793 ms, sys: 44.4 ms, total: 837 ms\n",
      "Wall time: 864 ms\n"
     ]
    }
   ],
   "source": [
    "%%time \n",
    "# took just under 9 min on MacBook Pro\n",
    "# full_graph = total_unlinked.add_ocean_edges(link_nodes, n_jobs=6, radius=1.4e5)\n",
    "# full_graph = add_reverse(full_graph)\n",
    "# nx.write_gpickle(full_graph, fp('output/total_connected.gpickle'))\n",
    "# if it's already been run and you don't want to wait:\n",
    "full_graph = nx.read_gpickle(fp('output/total_connected.gpickle'))"
   ]
  },
  {
   "cell_type": "code",
   "execution_count": 38,
   "metadata": {},
   "outputs": [],
   "source": [
    "nx_total_out_dir = fp('output/total_connected_shp/')\n",
    "if not os.path.exists(nx_total_out_dir):\n",
    "    print \"making\"\n",
    "    !mkdir $nx_total_out_dir\n",
    "nx.write_shp(full_graph, nx_total_out_dir)"
   ]
  },
  {
   "cell_type": "markdown",
   "metadata": {},
   "source": [
    "Force the East River into the coast graph. Ideally, the east river should've been included as a passage in the land shapefile. It wasn't so this step is a work-around."
   ]
  },
  {
   "cell_type": "code",
   "execution_count": 42,
   "metadata": {},
   "outputs": [],
   "source": [
    "eastriv = drawn[drawn.id==101].geometry.item()\n",
    "# round all the points so the ends line up with nodes\n",
    "eastriv = LineString([tround(t) for t in eastriv.coords])"
   ]
  },
  {
   "cell_type": "code",
   "execution_count": 43,
   "metadata": {},
   "outputs": [],
   "source": [
    "# The add_geom_edge field also updates full_graph in place\n",
    "full_graph2 = rgl.add_geom_edge(full_graph, eastriv)\n",
    "nx.write_gpickle(full_graph, fp('output/total_connected_with_eastriver.gpickle'))"
   ]
  },
  {
   "cell_type": "code",
   "execution_count": 44,
   "metadata": {},
   "outputs": [
    {
     "data": {
      "text/html": [
       "<iframe src=\"data:text/html;base64,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\" width=\"100%\" height=\"360\"></iframe>"
      ],
      "text/plain": [
       "<IPython.core.display.HTML object>"
      ]
     },
     "execution_count": 44,
     "metadata": {},
     "output_type": "execute_result"
    }
   ],
   "source": [
    "fish_dist = pyriv.coastal.coastal_fish_distance\n",
    "p0 = sites.loc[sites.Code=='SJR'].geometry.iloc[0]\n",
    "p1 = sites.geometry.iloc[0]\n",
    "p2 = sites.geometry.iloc[1]\n",
    "p4 = sites.loc[sites.Code=='MIA'].geometry.iloc[0]\n",
    "p5 = sites.loc[sites.Code=='HUD_BLA'].geometry.iloc[0]\n",
    "gdf_from_geoms = lambda gs: gpd.GeoDataFrame({'geometry': gs})\n",
    "fd_df = gdf_from_geoms([fish_dist(full_graph, p4, p5)])\n",
    "fd_df.plot(linewidth=4.0, color='r', figsize=(6,6))\n",
    "mplleaflet.display(epsg=5070)"
   ]
  },
  {
   "cell_type": "markdown",
   "metadata": {},
   "source": [
    "The results were then checked and reformated [here](EC_Result_Check.ipynb)."
   ]
  }
 ],
 "metadata": {
  "kernelspec": {
   "display_name": "Python 2",
   "language": "python",
   "name": "python2"
  },
  "language_info": {
   "codemirror_mode": {
    "name": "ipython",
    "version": 2
   },
   "file_extension": ".py",
   "mimetype": "text/x-python",
   "name": "python",
   "nbconvert_exporter": "python",
   "pygments_lexer": "ipython2",
   "version": "2.7.12"
  }
 },
 "nbformat": 4,
 "nbformat_minor": 2
}
