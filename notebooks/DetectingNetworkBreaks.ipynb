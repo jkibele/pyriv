{
 "cells": [
  {
   "cell_type": "markdown",
   "metadata": {},
   "source": [
    "#### Setup environment"
   ]
  },
  {
   "cell_type": "code",
   "execution_count": 1,
   "metadata": {
    "collapsed": true
   },
   "outputs": [],
   "source": [
    "# %load \"/Users/haleighwright/Desktop/NCEAS/pyriv/notebooks/nb_config.py\"\n",
    "import sys\n",
    "sys.path.append(\"/Users/haleighwright/Desktop/NCEAS/pyriv\")\n",
    "sys.path.append(\"/Library/Frameworks/Python.framework/Versions/2.7/lib/python2.7/site-packages\")\n",
    "import networkx as nx\n",
    "import numpy as np\n",
    "import sys\n",
    "import geopandas as gpd\n",
    "from shapely.geometry import Point\n",
    "from multiprocessing import Pool\n",
    "\n",
    "from pyriv import graph_prep as GraphBuilder\n",
    "from pyriv import river_graph as RiverGraph\n",
    "\n",
    "%matplotlib inline"
   ]
  },
  {
   "cell_type": "code",
   "execution_count": 2,
   "metadata": {
    "collapsed": true
   },
   "outputs": [],
   "source": [
    "from functools import partial\n",
    "from types import *"
   ]
  },
  {
   "cell_type": "markdown",
   "metadata": {},
   "source": [
    "### Retrieve the dead ends of the network\n",
    "The dead ends are the nodes that have an out degree = 0"
   ]
  },
  {
   "cell_type": "code",
   "execution_count": 3,
   "metadata": {
    "collapsed": true
   },
   "outputs": [],
   "source": [
    "# to be efficient with this process, we need to assign node ID's - nodes are identified by their coord's when read in"
   ]
  },
  {
   "cell_type": "code",
   "execution_count": 4,
   "metadata": {
    "collapsed": true
   },
   "outputs": [],
   "source": [
    "def add_node_ids_copy(G):\n",
    "    \"\"\"\n",
    "    Params: networkx graph\n",
    "    Return: copy of graph with node ID attr. added\n",
    "    \n",
    "    Returns a copy of the graph with node ID attr (an int) added, \n",
    "    used for finding problem nodes easier / quicker node identification\n",
    "    Must use a dict with the nodes' as keys and the attributes listed\n",
    "    \"\"\"\n",
    "    copy = G.copy()\n",
    "    return add_node_ids_mutate(copy)"
   ]
  },
  {
   "cell_type": "code",
   "execution_count": 5,
   "metadata": {
    "collapsed": true
   },
   "outputs": [],
   "source": [
    "def node_to_dict(G):\n",
    "    nodes = nx.nodes(G)\n",
    "    #check if they have id first?\n",
    "    #if nodes[0]\n",
    "    temp = {}\n",
    "    i = 0\n",
    "    for node in nodes:\n",
    "        temp[i] = node\n",
    "        i = i+1\n",
    "        \n",
    "    return temp"
   ]
  },
  {
   "cell_type": "code",
   "execution_count": 6,
   "metadata": {
    "collapsed": true
   },
   "outputs": [],
   "source": [
    "def add_node_ids_mutate(G):\n",
    "    \"\"\"\n",
    "    Params: networkx graph\n",
    "    Return: referfence to modified graph\n",
    "    \n",
    "    Modifies input graph with node ID attr (an int) added, \n",
    "    used for finding problem nodes easier / quicker node identification\n",
    "    Must use a dict with the nodes' as keys and the attributes listed\n",
    "    \"\"\"\n",
    "    attr_dict = {}\n",
    "    i = 0\n",
    "    keys = G.nodes()\n",
    "    for node in keys:\n",
    "        attr_dict[node] = i\n",
    "        i = i+1\n",
    "    nx.set_node_attributes(G, 'ID', attr_dict)\n",
    "    return G"
   ]
  },
  {
   "cell_type": "code",
   "execution_count": 7,
   "metadata": {
    "collapsed": true
   },
   "outputs": [],
   "source": [
    "def deadends_old(self):\n",
    "    \"\"\"\n",
    "    For a directed graph, find the nodes that have out_degree == 0\n",
    "    Note: this is the older, slower method\n",
    "    \"\"\"\n",
    "    thedict = {}\n",
    "    # get a dictionary of { node: out_degree }\n",
    "    degdict = self.out_degree(self.nodes())\n",
    "    # convert to a 2 column array of node and out_degree\n",
    "    degarr = np.array(degdict.items())\n",
    "    # get a boolean index of rows where out_degree==0\n",
    "    dead_row_ind = (degarr[:,1]==0)\n",
    "\n",
    "    \n",
    "    for i in range(0, len(degarr)):\n",
    "        if dead_row_ind[i] == True:\n",
    "            thedict[allnodes[i][0]] = tuple(degarr[:,0][i])\n",
    "            \n",
    "    # use that index to get the nodes\n",
    "    #dead_nodes = degarr[:,0][dead_row_ind]\n",
    "    return thedict"
   ]
  },
  {
   "cell_type": "code",
   "execution_count": 8,
   "metadata": {
    "collapsed": true
   },
   "outputs": [],
   "source": [
    "def deadend_coords_to_keys(G, ends):\n",
    "    assert type(ends) is TupleType, \"collection of end nodes is not a tuple\"\n",
    "    ends = list(ends)\n",
    "    \n",
    "    \n",
    "    alldict = nx.get_node_attributes(G, 'ID')\n",
    "    \n",
    "    keylist = []\n",
    "    for i in range(0, len(ends)):\n",
    "        keylist.append(alldict[ends[i]])\n",
    "        \n",
    "    return keylist\n",
    "        \n",
    "    "
   ]
  },
  {
   "cell_type": "code",
   "execution_count": 9,
   "metadata": {
    "collapsed": true
   },
   "outputs": [],
   "source": [
    "def find_missing_edges_seq(G, ends, allnodes, threshold):\n",
    "    \"\"\"\n",
    "    Params:\n",
    "    Returns: list of missing edges\n",
    "\n",
    "    Sequential method to find missing edges. VERY VERY SLOW; use ||'zd version\n",
    "    \"\"\"\n",
    "    for key1, node1 in deadends.iteritems():\n",
    "        for key2, node2 in allnodes.iteritems():\n",
    "            #print node1\n",
    "            xd = node1[0] - node2[0]\n",
    "            yd = node1[1] - node2[1]\n",
    "            dist = np.sqrt((xd*xd + yd*yd))\n",
    "            \n",
    "            if key1 != key2 and dist < threshold and dist > 0:\n",
    "                graph.add_edge(key1, key2)\n",
    "                print(\"added edge from \"+str(key1)+\" : \"+str(node1)+\" to \"+ str(key2)+\" : \"+str(node2))\n",
    "                problem_points[str(cnt)+\"_A\"] =key1\n",
    "                problem_points[str(cnt)+\"_B\"] =key2\n",
    "                break\n",
    "                \n",
    "        \n",
    "\n"
   ]
  },
  {
   "cell_type": "code",
   "execution_count": 51,
   "metadata": {
    "collapsed": true
   },
   "outputs": [],
   "source": [
    "def find_missing_edges_par(ends, nodes, threshold, numproc):\n",
    "    \"\"\"\n",
    "    Params: ends = deadends found dict, allnodes = iterable of all nodes; threshold = dist. thresh\n",
    "    Returns: a list of missing edges to add where dist < thresh. b/w the deadend & other node\n",
    "    \n",
    "    ||'zd method to find missing edges (a CPU-bound task w/ no communication needs)\n",
    "    \n",
    "    Note 1: in order to pass multiple args to multiproc.'g map fcn. we use a partial \n",
    "                                                                ( req. Python >=2.7)\n",
    "    Note 2: Pool.map maps a fcn over sequence (str, unicode, list, tuple, buffer, or xrange) so\n",
    "                        need to convert dict to that first\n",
    "    \"\"\"\n",
    "    assert type(ends) is ListType, \"collection of end nodes is not a list\"\n",
    "    assert type(ends[0]) is IntType, \"nodes in ends list arent referred to by their ID\"\n",
    "    \n",
    "    assert type(nodes) is DictType, \"collection of allnodes is not a dictionary\"\n",
    "    \n",
    "    #need to convert the dict of dead ends to the correct format, which is:\n",
    "    #    key: (key, (coord_x, coord_y))\n",
    "\n",
    "    realdict = {}\n",
    "    for key, val in nodes.iteritems():\n",
    "        realdict[key]=(key, val)\n",
    "        \n",
    "    #assert type(allnodes[0]) is IntType, \"first column of allnodes dictionary is not a node ID\"\n",
    "    #assert type(allnodes[0][0]) is TupleType, \"second column of allnodes dictionary is not a coord tuple\"\n",
    "    \n",
    "    \n",
    "    if numproc < 2:\n",
    "        print(\"Please request to run more than one concurrent process to avoid redundant work. If you wish to use \"+\n",
    "                +\"the sequential version of this method, please do so directly.\")\n",
    "    else:\n",
    "        \n",
    "        \n",
    "          \n",
    "        pool = Pool(numproc)\n",
    "    \n",
    "        result_list = pool.map(partial(find_missing_edges_par_inner, allnodes=realdict, th=threshold), ends)\n",
    "        pool.close()\n",
    "        pool.join()\n",
    "        \n",
    "        cleaned_results = []\n",
    "        #clean result list before returning or else it will have empty entries\n",
    "        for entry in result_list:\n",
    "            if not not entry:\n",
    "                if len(entry) > 1:\n",
    "                    for innerentry in entry:\n",
    "                        cleaned_results.append(innerentry)\n",
    "                else:\n",
    "                    cleaned_results.append(entry[0])\n",
    "                \n",
    "        return cleaned_results \n",
    "    \n",
    "    "
   ]
  },
  {
   "cell_type": "code",
   "execution_count": 10,
   "metadata": {
    "collapsed": true
   },
   "outputs": [],
   "source": [
    "def find_missing_edges_par_inner(key1, allnodes, th):\n",
    "    \"\"\"\n",
    "    inner function for || version of finding missing edges\n",
    "    \"\"\"\n",
    "    \n",
    "    edges_to_add = []\n",
    "    node1 = allnodes[key1][1]\n",
    "    for i in range(0, len(allnodes)):\n",
    "        key2 = allnodes[i][0]\n",
    "        if key1 != key2:\n",
    "            node2 = allnodes[i][1]\n",
    "            xd = node1[0] - node2[0]\n",
    "            yd = node1[1] - node2[1]\n",
    "            dist = np.sqrt((xd*xd + yd*yd))\n",
    "            if key1 != key2 and dist < th and dist > 0:\n",
    "                edges_to_add.append([key1,key2])\n",
    "                break\n",
    "                \n",
    "    return edges_to_add\n",
    "    \n",
    "    \n",
    "    "
   ]
  },
  {
   "cell_type": "code",
   "execution_count": 70,
   "metadata": {
    "collapsed": true
   },
   "outputs": [],
   "source": [
    "def add_missing_edges(G, edges_to_add, allnodes):\n",
    "    \"\"\"\n",
    "    Params: G = graph to add edges to; list of edges to add w/ each entry an [x,y] list\n",
    "    Returns: nothing\n",
    "    \n",
    "    IMPORTANT: MUTATES the graph passed in\n",
    "    \"\"\"\n",
    "    for coord in edges_to_add:\n",
    "        G.add_edge(allnodes[coord[0]], allnodes[coord[1]])"
   ]
  },
  {
   "cell_type": "code",
   "execution_count": 13,
   "metadata": {
    "collapsed": true
   },
   "outputs": [],
   "source": [
    "def missing_edges_to_shp(pts, filepath, projection_code):\n",
    "    \"\"\"\n",
    "    Params: nodes/pts describing missing edges; relative filepath .shp to write to; projection_code to convert\n",
    "            coords (should match the maps you started with for overlaying purposes)\n",
    "    Returns: none (writes to output file) \n",
    "    \n",
    "    \n",
    "    \"\"\"\n",
    "    pts = list(pts.values())\n",
    "    kcdf = gpd.GeoDataFrame({'geometry': [Point(n) for n in pts]})\n",
    "    kcdf.crs = {'init': projection_code}\n",
    "    kcdf.to_file(filepath)"
   ]
  },
  {
   "cell_type": "code",
   "execution_count": 14,
   "metadata": {
    "collapsed": true
   },
   "outputs": [],
   "source": [
    "def component_stats(G, verbose):\n",
    "    \"\"\"\n",
    "    Params: G = graph to collect stats on, verbose flag\n",
    "    Returns: nothing\n",
    "    \n",
    "    Prints out various relevent stats about graphs concerning components\n",
    "    \"\"\"\n",
    "    explans = {}\n",
    "    if verbose == True:\n",
    "        explans['weakly-connected'] = \"(There is an undirected path between each pair of nodes in the directed graph)\"\n",
    "        explans['strongly-connected'] = \"(There is a directed path between each pair of nodes in the directed graph)\"\n",
    "        explans['semiconnected'] = \"\"\n",
    "    else:\n",
    "        explans['weakly-connected'] = \"\"\n",
    "        explans['strongly-connected'] = \"\"\n",
    "        explans['semiconnected'] = \"\"\n",
    "        \n",
    "    \n",
    "    print \"Is the graph weakly connected \"+explans['weakly-connected'] +\"? \"+ str(nx.is_weakly_connected(G)) \n",
    "    print \"Number of weakly connected components: \" + str(nx.number_weakly_connected_components(G))\n",
    "    print \"Is the graph semiconnected \"+explans['semiconnected']+ \"? \" + str(nx.is_semiconnected(G))\n",
    "    print \"Is the graph strongly connected \"+explans['strongly-connected']+ \"? \"+ str(nx.is_strongly_connected(G))\n",
    "    \n",
    "    \n",
    "    \n",
    "    "
   ]
  },
  {
   "cell_type": "code",
   "execution_count": 15,
   "metadata": {
    "collapsed": true
   },
   "outputs": [],
   "source": [
    "def general_stats(G):\n",
    "    \"\"\"\n",
    "    Print general stats about graph G\n",
    "    Can add more as/if needed...\n",
    "    \"\"\"\n",
    "    print \"Number of edges: \"+ str(G.number_of_edges())\n",
    "    print \"Number of nodes: \"+str(G.number_of_nodes()) "
   ]
  },
  {
   "cell_type": "markdown",
   "metadata": {},
   "source": [
    "# Test The Methods\n",
    "Go through and test the above methods to assure they all work properly"
   ]
  },
  {
   "cell_type": "code",
   "execution_count": 16,
   "metadata": {},
   "outputs": [
    {
     "name": "stdout",
     "output_type": "stream",
     "text": [
      "Weighting Edges with Distances\n"
     ]
    }
   ],
   "source": [
    "kusko_g = GraphBuilder.GraphBuilder('../../data/sasap/kusko_region_flowlines.gpickle')"
   ]
  },
  {
   "cell_type": "code",
   "execution_count": 17,
   "metadata": {
    "collapsed": true
   },
   "outputs": [],
   "source": [
    "kusko_g_ID = add_node_ids_copy(kusko_g.graph)"
   ]
  },
  {
   "cell_type": "code",
   "execution_count": 26,
   "metadata": {},
   "outputs": [
    {
     "name": "stdout",
     "output_type": "stream",
     "text": [
      "Is the graph weakly connected (There is an undirected path between each pair of nodes in the directed graph)? False\n",
      "Number of weakly connected components: 5548\n",
      "Is the graph semiconnected ? False\n",
      "Is the graph strongly connected (There is a directed path between each pair of nodes in the directed graph)? False\n"
     ]
    }
   ],
   "source": [
    "component_stats(kusko_g_ID, True)"
   ]
  },
  {
   "cell_type": "code",
   "execution_count": 27,
   "metadata": {},
   "outputs": [
    {
     "name": "stdout",
     "output_type": "stream",
     "text": [
      "Number of edges: 284697\n",
      "Number of nodes: 277425\n"
     ]
    }
   ],
   "source": [
    "general_stats(kusko_g_ID)"
   ]
  },
  {
   "cell_type": "code",
   "execution_count": 18,
   "metadata": {
    "collapsed": true
   },
   "outputs": [],
   "source": [
    "kusko_ends = kusko_g_ID.deadends()"
   ]
  },
  {
   "cell_type": "code",
   "execution_count": 19,
   "metadata": {},
   "outputs": [
    {
     "name": "stdout",
     "output_type": "stream",
     "text": [
      "(-471290.9307224038, 1213112.07627931)\n"
     ]
    }
   ],
   "source": [
    "print kusko_ends[0]"
   ]
  },
  {
   "cell_type": "code",
   "execution_count": 20,
   "metadata": {},
   "outputs": [
    {
     "name": "stdout",
     "output_type": "stream",
     "text": [
      "<type 'tuple'>\n"
     ]
    }
   ],
   "source": [
    "print type(kusko_ends)\n"
   ]
  },
  {
   "cell_type": "code",
   "execution_count": 21,
   "metadata": {
    "collapsed": true
   },
   "outputs": [],
   "source": [
    "kusko_ends_list = deadend_coords_to_keys(kusko_g_ID, kusko_ends)"
   ]
  },
  {
   "cell_type": "code",
   "execution_count": 22,
   "metadata": {},
   "outputs": [
    {
     "name": "stdout",
     "output_type": "stream",
     "text": [
      "<type 'list'>\n",
      "13\n"
     ]
    }
   ],
   "source": [
    "print type(kusko_ends_list)\n",
    "print kusko_ends_list[0]"
   ]
  },
  {
   "cell_type": "code",
   "execution_count": 23,
   "metadata": {
    "collapsed": true
   },
   "outputs": [],
   "source": [
    "allnodesdict = node_to_dict(kusko_g_ID)\n"
   ]
  },
  {
   "cell_type": "code",
   "execution_count": 26,
   "metadata": {
    "scrolled": true
   },
   "outputs": [],
   "source": [
    "missing_edges = find_missing_edges_par(kusko_ends_list, allnodesdict, 0.3, 8)"
   ]
  },
  {
   "cell_type": "code",
   "execution_count": 50,
   "metadata": {},
   "outputs": [],
   "source": [
    "cleaned_results = []\n",
    "#clean result list before returning or else it will have empty entries\n",
    "#added this to the missing_edges function directly\n",
    "for entry in missing_edges:\n",
    "            if not not entry:\n",
    "                if len(entry) > 1:\n",
    "                    for innerentry in entry:\n",
    "                        cleaned_results.append(innerentry)\n",
    "                else:\n",
    "                    cleaned_results.append(entry[0])\n",
    "                "
   ]
  },
  {
   "cell_type": "code",
   "execution_count": 52,
   "metadata": {},
   "outputs": [
    {
     "name": "stdout",
     "output_type": "stream",
     "text": [
      "[[203007, 246103]]\n"
     ]
    }
   ],
   "source": [
    "print cleaned_results"
   ]
  },
  {
   "cell_type": "code",
   "execution_count": 57,
   "metadata": {
    "collapsed": true
   },
   "outputs": [],
   "source": [
    "copy_kusko2 = kusko_g_ID.copy()"
   ]
  },
  {
   "cell_type": "code",
   "execution_count": 56,
   "metadata": {},
   "outputs": [
    {
     "data": {
      "text/plain": [
       "(-290938.300311207, 1301283.3149657596)"
      ]
     },
     "execution_count": 56,
     "metadata": {},
     "output_type": "execute_result"
    }
   ],
   "source": [
    "allnodesdict[203007]"
   ]
  },
  {
   "cell_type": "code",
   "execution_count": 68,
   "metadata": {},
   "outputs": [
    {
     "name": "stdout",
     "output_type": "stream",
     "text": [
      "203007\n",
      "246103\n",
      "(-290938.300311207, 1301283.3149657596)\n",
      "(-290938.32268009393, 1301283.3127322474)\n"
     ]
    }
   ],
   "source": [
    "add_missing_edges(copy_kusko2, cleaned_results, allnodesdict)"
   ]
  },
  {
   "cell_type": "code",
   "execution_count": 69,
   "metadata": {},
   "outputs": [
    {
     "name": "stdout",
     "output_type": "stream",
     "text": [
      "Number of edges: 284698\n",
      "Number of nodes: 277425\n"
     ]
    }
   ],
   "source": [
    "general_stats(copy_kusko2)"
   ]
  },
  {
   "cell_type": "code",
   "execution_count": null,
   "metadata": {
    "collapsed": true
   },
   "outputs": [],
   "source": []
  }
 ],
 "metadata": {
  "kernelspec": {
   "display_name": "Python 2",
   "language": "python",
   "name": "python2"
  },
  "language_info": {
   "codemirror_mode": {
    "name": "ipython",
    "version": 2
   },
   "file_extension": ".py",
   "mimetype": "text/x-python",
   "name": "python",
   "nbconvert_exporter": "python",
   "pygments_lexer": "ipython2",
   "version": "2.7.13"
  }
 },
 "nbformat": 4,
 "nbformat_minor": 2
}
