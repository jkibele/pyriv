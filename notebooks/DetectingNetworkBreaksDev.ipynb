{
 "cells": [
  {
   "cell_type": "code",
   "execution_count": 12,
   "metadata": {
    "collapsed": true
   },
   "outputs": [],
   "source": [
    "import networkx as nx\n",
    "import numpy as np\n",
    "import sys\n",
    "import shapely"
   ]
  },
  {
   "cell_type": "code",
   "execution_count": 11,
   "metadata": {
    "collapsed": true
   },
   "outputs": [],
   "source": [
    "import geopandas as gpd"
   ]
  },
  {
   "cell_type": "code",
   "execution_count": 97,
   "metadata": {
    "collapsed": true
   },
   "outputs": [],
   "source": [
    "%matplotlib inline"
   ]
  },
  {
   "cell_type": "code",
   "execution_count": 10,
   "metadata": {
    "collapsed": true
   },
   "outputs": [],
   "source": [
    "sys.path.append(\"/Users/haleighwright/Desktop/NCEAS/pyriv\")\n",
    "sys.path.append(\"/Library/Frameworks/Python.framework/Versions/2.7/lib/python2.7/site-packages\")"
   ]
  },
  {
   "cell_type": "code",
   "execution_count": 13,
   "metadata": {
    "collapsed": true
   },
   "outputs": [],
   "source": [
    "from pyriv import graph_prep as GraphBuilder\n",
    "from pyriv import river_graph as RiverGraph"
   ]
  },
  {
   "cell_type": "code",
   "execution_count": 26,
   "metadata": {
    "collapsed": true
   },
   "outputs": [],
   "source": [
    "kusko_g = GraphBuilder.GraphBuilder('../../data/sasap/kusko_region_flowlines.gpickle')"
   ]
  },
  {
   "cell_type": "markdown",
   "metadata": {},
   "source": [
    "do attracting components for now to get the ends of the graph"
   ]
  },
  {
   "cell_type": "code",
   "execution_count": 11,
   "metadata": {
    "collapsed": true
   },
   "outputs": [],
   "source": [
    "g_ends = nx.attracting_components(kusko_g.graph)\n"
   ]
  },
  {
   "cell_type": "code",
   "execution_count": 27,
   "metadata": {
    "collapsed": true
   },
   "outputs": [],
   "source": [
    "copy = kusko_g.graph.copy()\n"
   ]
  },
  {
   "cell_type": "code",
   "execution_count": 28,
   "metadata": {
    "collapsed": true
   },
   "outputs": [],
   "source": [
    "NODELIST = kusko_g.graph.nodes()"
   ]
  },
  {
   "cell_type": "code",
   "execution_count": 132,
   "metadata": {},
   "outputs": [
    {
     "data": {
      "text/plain": [
       "5"
      ]
     },
     "execution_count": 132,
     "metadata": {},
     "output_type": "execute_result"
    }
   ],
   "source": [
    "allnodesiter[5][0]"
   ]
  },
  {
   "cell_type": "code",
   "execution_count": 147,
   "metadata": {},
   "outputs": [],
   "source": [
    "def deadends(self, allnodes):\n",
    "    \"\"\"\n",
    "    For a directed graph, find the nodes that have in edges but no out edges.\n",
    "    \"\"\"\n",
    "    thedict = {}\n",
    "    # get a dictionary of { node: out_degree }\n",
    "    degdict = self.out_degree(self.nodes())\n",
    "    # convert to a 2 column array of node and out_degree\n",
    "    degarr = np.array(degdict.items())\n",
    "    # get a boolean index of rows where out_degree==0\n",
    "    print degarr\n",
    "    dead_row_ind = (degarr[:,1]==0)\n",
    "    print dead_row_ind\n",
    "    print degdict\n",
    "    \n",
    "    for i in range(0, len(degarr)):\n",
    "        if dead_row_ind[i] == True:\n",
    "            print i\n",
    "            thedict[allnodes[i][0]] = tuple(degarr[:,0][i])\n",
    "            \n",
    "    # use that index to get the nodes\n",
    "    #dead_nodes = degarr[:,0][dead_row_ind]\n",
    "    return thedict"
   ]
  },
  {
   "cell_type": "code",
   "execution_count": 30,
   "metadata": {
    "collapsed": true
   },
   "outputs": [],
   "source": [
    " end_dict = deadends(kusko_g.graph)"
   ]
  },
  {
   "cell_type": "code",
   "execution_count": 31,
   "metadata": {},
   "outputs": [
    {
     "ename": "NameError",
     "evalue": "name 'kusko_g_snapped' is not defined",
     "output_type": "error",
     "traceback": [
      "\u001b[0;31m---------------------------------------------------------------------------\u001b[0m",
      "\u001b[0;31mNameError\u001b[0m                                 Traceback (most recent call last)",
      "\u001b[0;32m<ipython-input-31-f5ee0524c5da>\u001b[0m in \u001b[0;36m<module>\u001b[0;34m()\u001b[0m\n\u001b[0;32m----> 1\u001b[0;31m \u001b[0mend_dict_snapped\u001b[0m \u001b[0;34m=\u001b[0m \u001b[0mdeadends\u001b[0m\u001b[0;34m(\u001b[0m\u001b[0mkusko_g_snapped\u001b[0m\u001b[0;34m.\u001b[0m\u001b[0mgraph\u001b[0m\u001b[0;34m)\u001b[0m\u001b[0;34m\u001b[0m\u001b[0m\n\u001b[0m",
      "\u001b[0;31mNameError\u001b[0m: name 'kusko_g_snapped' is not defined"
     ]
    }
   ],
   "source": [
    "end_dict_snapped = deadends(kusko_g_snapped.graph)"
   ]
  },
  {
   "cell_type": "code",
   "execution_count": null,
   "metadata": {
    "collapsed": true
   },
   "outputs": [],
   "source": [
    "print(end_dict.items()[0])"
   ]
  },
  {
   "cell_type": "code",
   "execution_count": 42,
   "metadata": {
    "collapsed": true
   },
   "outputs": [],
   "source": [
    "allnodesdict = {}\n",
    "thenodes = NODELIST\n",
    "for i in range(0, len(thenodes)):\n",
    "    allnodesdict[i] = thenodes[i]"
   ]
  },
  {
   "cell_type": "code",
   "execution_count": null,
   "metadata": {
    "collapsed": true
   },
   "outputs": [],
   "source": [
    "allnodesdict_snapped = {}\n",
    "thenodes_snapped = NODELIST_snapped\n",
    "for i in range(0, len(thenodes_snapped)):\n",
    "    allnodesdict_snapped[i] = thenodes_snapped[i]"
   ]
  },
  {
   "cell_type": "code",
   "execution_count": null,
   "metadata": {
    "collapsed": true
   },
   "outputs": [],
   "source": [
    "allnodesdict.items()[0]"
   ]
  },
  {
   "cell_type": "code",
   "execution_count": 108,
   "metadata": {},
   "outputs": [
    {
     "data": {
      "text/plain": [
       "(0, (-71704.67681649092, 1377383.849704166))"
      ]
     },
     "execution_count": 108,
     "metadata": {},
     "output_type": "execute_result"
    }
   ],
   "source": [
    "allnodesdict_snapped.items()[0]"
   ]
  },
  {
   "cell_type": "code",
   "execution_count": null,
   "metadata": {
    "collapsed": true
   },
   "outputs": [],
   "source": [
    "#add_missing_edges(copy, end_dict, allnodesdict, 5.0 )"
   ]
  },
  {
   "cell_type": "markdown",
   "metadata": {},
   "source": [
    "this process (the node snapping) could be broken up and done in parallel to speed it up..."
   ]
  },
  {
   "cell_type": "markdown",
   "metadata": {},
   "source": [
    "### probably would be easiest to add an ID to nodes when creating the graph to not mess with lists"
   ]
  },
  {
   "cell_type": "code",
   "execution_count": 21,
   "metadata": {
    "collapsed": true
   },
   "outputs": [],
   "source": [
    "def add_missing_edges(graph, deadends, allnodes, threshold):\n",
    "    missing_edges = []\n",
    "    \n",
    "    for key1, node1 in deadends.iteritems():\n",
    "        for key2, node2 in allnodes.iteritems():\n",
    "            #get the distance b/w nodes, if below threshold, add edge b/w them in graph\n",
    "            if key1 != key2 and np.linalg.norm(np.subtract(node1,node2)) < threshold:\n",
    "                graph.add_edge(key1,key2)\n",
    "                print(\"added edge from \"+str(key1)+\" : \"+str(node1)+\" to \"+ str(key2)+\" : \"+str(node2))\n",
    "                \n",
    "    \n",
    "    "
   ]
  },
  {
   "cell_type": "markdown",
   "metadata": {},
   "source": [
    "### add ID's to all the nodes"
   ]
  },
  {
   "cell_type": "code",
   "execution_count": 32,
   "metadata": {
    "collapsed": true
   },
   "outputs": [],
   "source": [
    "g_ID = kusko_g.graph.copy()"
   ]
  },
  {
   "cell_type": "code",
   "execution_count": 33,
   "metadata": {
    "collapsed": true
   },
   "outputs": [],
   "source": [
    "keys = g_ID.nodes()\n",
    "d = g_ID.number_of_nodes()"
   ]
  },
  {
   "cell_type": "code",
   "execution_count": 34,
   "metadata": {},
   "outputs": [
    {
     "name": "stdout",
     "output_type": "stream",
     "text": [
      "RiverGraph\n"
     ]
    }
   ],
   "source": [
    " print type(g_ID).__name__"
   ]
  },
  {
   "cell_type": "code",
   "execution_count": 35,
   "metadata": {
    "collapsed": true
   },
   "outputs": [],
   "source": [
    "attr_dict = {}\n",
    "i = 0\n",
    "for node in keys:\n",
    "    attr_dict[node] = i\n",
    "    i = i + 1"
   ]
  },
  {
   "cell_type": "code",
   "execution_count": 36,
   "metadata": {
    "collapsed": true
   },
   "outputs": [],
   "source": [
    "nx.set_node_attributes(g_ID, 'ID', attr_dict)"
   ]
  },
  {
   "cell_type": "code",
   "execution_count": 37,
   "metadata": {
    "collapsed": true
   },
   "outputs": [],
   "source": [
    "ids = nx.get_node_attributes(g_ID, 'ID')"
   ]
  },
  {
   "cell_type": "code",
   "execution_count": 38,
   "metadata": {},
   "outputs": [
    {
     "name": "stdout",
     "output_type": "stream",
     "text": [
      "(-71704.67681649092, 1377383.849704166)\n",
      "0\n"
     ]
    }
   ],
   "source": [
    "for key,value in ids.iteritems():\n",
    "    print key \n",
    "    print value\n",
    "    break\n",
    "    "
   ]
  },
  {
   "cell_type": "markdown",
   "metadata": {},
   "source": [
    "### rewrite the missing edges function to rely on graph ID's & be more efficient"
   ]
  },
  {
   "cell_type": "code",
   "execution_count": 38,
   "metadata": {
    "scrolled": true
   },
   "outputs": [
    {
     "name": "stdout",
     "output_type": "stream",
     "text": [
      "itr 13\n",
      "itr 229924\n",
      "itr 132061\n",
      "itr 230919\n",
      "itr 231567\n",
      "itr 264901\n",
      "itr 68846\n",
      "itr 3965\n",
      "itr 233816\n",
      "itr 168789\n",
      "itr 103757\n",
      "itr 235362\n",
      "added edge from 203007 : (-290938.300311207, 1301283.3149657596) to 246131 : (-290938.32268009393, 1301283.3127322474)\n",
      "itr 170431\n",
      "itr 269372\n",
      "itr 269917\n",
      "itr 172140\n",
      "itr 8876\n",
      "itr 75015\n",
      "itr 239518\n",
      "itr 207289\n",
      "itr 76798\n",
      "itr 56817\n",
      "itr 110665\n",
      "itr 171443\n",
      "itr 144416\n",
      "itr 177755\n",
      "itr 238354\n",
      "itr 244593\n",
      "itr 139170\n",
      "added edge from 144703 : (-421500.2361574562, 1149075.1478681166) to 165126 : (-421498.1604211468, 1149077.092522459)\n",
      "itr 16560\n",
      "itr 49918\n",
      "itr 270573\n",
      "added edge from 50869 : (-525261.9544729243, 1157991.6321857257) to 162910 : (-525264.6820633454, 1157991.8895438928)\n",
      "added edge from 214903 : (-479747.76665325527, 1197392.2160671172) to 270210 : (-479749.8061004414, 1197391.509488749)\n",
      "itr 83935\n",
      "itr 51796\n",
      "itr 248993\n",
      "itr 184046\n",
      "itr 184715\n",
      "itr 87003\n",
      "itr 22003\n",
      "itr 251998\n",
      "itr 252579\n",
      "itr 56702\n",
      "itr 221068\n",
      "itr 254420\n",
      "itr 255146\n",
      "itr 26366\n",
      "itr 27043\n",
      "itr 93267\n",
      "itr 192175\n",
      "itr 43045\n",
      "itr 160587\n",
      "itr 95656\n",
      "itr 227353\n",
      "itr 64133\n",
      "itr 174629\n",
      "itr 58913\n",
      "CPU times: user 48min 48s, sys: 1min 10s, total: 49min 59s\n",
      "Wall time: 49min 12s\n"
     ]
    }
   ],
   "source": [
    "%%time\n",
    "add_missing_edges_f(g_ID, end_dict, allnodesdict, 3.0 )"
   ]
  },
  {
   "cell_type": "code",
   "execution_count": 109,
   "metadata": {
    "scrolled": true
   },
   "outputs": [
    {
     "name": "stdout",
     "output_type": "stream",
     "text": [
      "itr 65540\n",
      "itr 33314\n",
      "itr 33789\n",
      "itr 99914\n",
      "itr 231586\n",
      "itr 2774\n",
      "itr 36120\n",
      "itr 69519\n",
      "itr 70031\n",
      "itr 234396\n",
      "itr 5568\n",
      "itr 6112\n",
      "itr 170470\n",
      "itr 40040\n",
      "itr 237170\n",
      "itr 66917\n",
      "itr 238228\n",
      "itr 271568\n",
      "itr 206676\n",
      "itr 198377\n",
      "itr 43924\n",
      "itr 208303\n",
      "itr 176099\n",
      "itr 143811\n",
      "itr 111576\n",
      "added edge from 144666 : (-421500.2361574562, 1149075.1478681166) to 166612 : (-421498.1604211468, 1149077.092522459)\n",
      "itr 210551\n",
      "itr 243974\n",
      "itr 47922\n",
      "itr 81306\n",
      "itr 245851\n",
      "itr 199453\n",
      "itr 17745\n",
      "added edge from 50857 : (-525261.9544729243, 1157991.6321857257) to 164345 : (-525264.6820633454, 1157991.8895438928)\n",
      "added edge from 214842 : (-479747.76665325527, 1197392.2160671172) to 270457 : (-479749.8061004414, 1197391.509488749)\n",
      "itr 83858\n",
      "itr 84524\n",
      "itr 183339\n",
      "itr 20128\n",
      "itr 250147\n",
      "itr 250784\n",
      "itr 120218\n",
      "itr 219167\n",
      "itr 23191\n",
      "itr 89485\n",
      "itr 90019\n",
      "itr 25084\n",
      "itr 91296\n",
      "itr 255766\n",
      "itr 256412\n",
      "itr 191536\n",
      "itr 126583\n",
      "itr 94373\n",
      "itr 256129\n",
      "itr 30046\n",
      "itr 30660\n",
      "itr 31302\n",
      "itr 64688\n",
      "itr 130846\n",
      "CPU times: user 59min 3s, sys: 3min 51s, total: 1h 2min 55s\n",
      "Wall time: 1h 11s\n"
     ]
    }
   ],
   "source": [
    "%%time\n",
    "add_missing_edges_f(g_ID_snapped, end_dict_snapped, allnodesdict_snapped, 3.0 )"
   ]
  },
  {
   "cell_type": "code",
   "execution_count": 39,
   "metadata": {
    "collapsed": true
   },
   "outputs": [],
   "source": [
    "problem_points = {}"
   ]
  },
  {
   "cell_type": "code",
   "execution_count": 40,
   "metadata": {
    "collapsed": true
   },
   "outputs": [],
   "source": [
    "def add_missing_edges_f(graph, deadends, allnodes, threshold):\n",
    "    cnt = 0\n",
    "    for key1, node1 in deadends.iteritems():\n",
    "        if cnt%100==0:\n",
    "            print(\"itr \"+str(key1))\n",
    "        cnt = cnt + 1\n",
    "        for key2, node2 in allnodes.iteritems():\n",
    "            #print node1\n",
    "            xd = node1[0] - node2[0]\n",
    "            yd = node1[1] - node2[1]\n",
    "            dist = np.sqrt((xd*xd + yd*yd))\n",
    "            \n",
    "            if key1 != key2 and dist < threshold and dist > 0:\n",
    "                graph.add_edge(key1, key2)\n",
    "                print(\"added edge from \"+str(key1)+\" : \"+str(node1)+\" to \"+ str(key2)+\" : \"+str(node2))\n",
    "                problem_points[str(cnt)+\"_A\"] =key1\n",
    "                problem_points[str(cnt)+\"_B\"] =key2\n",
    "                break\n",
    "                \n",
    "            \n",
    "    "
   ]
  },
  {
   "cell_type": "markdown",
   "metadata": {},
   "source": [
    "## write problem nodes to a shape file so we can see them on the map"
   ]
  },
  {
   "cell_type": "code",
   "execution_count": 21,
   "metadata": {
    "collapsed": true
   },
   "outputs": [],
   "source": [
    "from shapely.geometry import Point"
   ]
  },
  {
   "cell_type": "code",
   "execution_count": 14,
   "metadata": {
    "collapsed": true
   },
   "outputs": [],
   "source": [
    "problem_points = { \"1_A\": (-421500.2361574562, 1149075.1478681166),\n",
    "                 \"1_B\": (-421498.1604211468, 1149077.092522459),\n",
    "                  \"2_A\": (-525261.9544729243, 1157991.6321857257),\n",
    "                 \"2_B\": (-525264.6820633454, 1157991.8895438928),\n",
    "                 \"3_A\":(-479747.76665325527, 1197392.2160671172),\n",
    "                 \"3_B\":(-479749.8061004414, 1197391.509488749)\n",
    "                 }\n"
   ]
  },
  {
   "cell_type": "code",
   "execution_count": 24,
   "metadata": {
    "collapsed": true
   },
   "outputs": [],
   "source": [
    "write_problem_points(problem_points, '../../data/sasap/kusko_region_flowlines_PP.shp', 'epsg:3338')"
   ]
  },
  {
   "cell_type": "code",
   "execution_count": 23,
   "metadata": {
    "collapsed": true
   },
   "outputs": [],
   "source": [
    "def write_problem_points(pts, filepath, projection_code):\n",
    "    pts = list(pts.values())\n",
    "    kcdf = gpd.GeoDataFrame({'geometry': [Point(n) for n in pts]})\n",
    "    kcdf.crs = {'init': projection_code}\n",
    "    kcdf.to_file(filepath)\n",
    "        "
   ]
  },
  {
   "cell_type": "markdown",
   "metadata": {
    "collapsed": true
   },
   "source": [
    "## cpu bound --> need multiprocessing for parallel"
   ]
  },
  {
   "cell_type": "code",
   "execution_count": 51,
   "metadata": {
    "collapsed": true
   },
   "outputs": [],
   "source": [
    "from multiprocessing import Pool\n",
    "# to do multiprocessing need to replace outer loop with "
   ]
  },
  {
   "cell_type": "code",
   "execution_count": 44,
   "metadata": {
    "collapsed": true
   },
   "outputs": [],
   "source": [
    "\n",
    "parallel_graph = copy.copy()\n",
    "\n"
   ]
  },
  {
   "cell_type": "code",
   "execution_count": 75,
   "metadata": {},
   "outputs": [
    {
     "name": "stdout",
     "output_type": "stream",
     "text": [
      "<type 'list'>\n"
     ]
    }
   ],
   "source": [
    "allnodesiter = allnodesdict.items()\n",
    "print(type(allnodesiter))"
   ]
  },
  {
   "cell_type": "code",
   "execution_count": 78,
   "metadata": {},
   "outputs": [
    {
     "name": "stdout",
     "output_type": "stream",
     "text": [
      "(-71704.67681649092, 1377383.849704166)\n"
     ]
    }
   ],
   "source": [
    "print(allnodesiter[0][1])"
   ]
  },
  {
   "cell_type": "markdown",
   "metadata": {},
   "source": [
    "#### get list of keys because map maps a function over a sequence\n",
    "a sequence is of types: str, unicode, list, tuple, buffer, xrange"
   ]
  },
  {
   "cell_type": "code",
   "execution_count": 63,
   "metadata": {
    "collapsed": true
   },
   "outputs": [],
   "source": [
    "parallel_keys = end_dict.keys()"
   ]
  },
  {
   "cell_type": "code",
   "execution_count": 64,
   "metadata": {},
   "outputs": [
    {
     "name": "stdout",
     "output_type": "stream",
     "text": [
      "<type 'list'>\n",
      "<type 'int'>\n",
      "13\n"
     ]
    }
   ],
   "source": [
    "print(type(parallel_keys))\n",
    "print(type(parallel_keys[0]))\n",
    "print(parallel_keys[0])"
   ]
  },
  {
   "cell_type": "code",
   "execution_count": 86,
   "metadata": {},
   "outputs": [
    {
     "name": "stdout",
     "output_type": "stream",
     "text": [
      "added edge from 135440 : (-281722.4101454012, 1205422.1248466056) to 30379 : (-281719.6003416084, 1205423.0566918675)\n",
      "added edge from 67999 : (-384633.71639956214, 1101832.6761768956) to 31675 : (-384635.60995205474, 1101831.1190393448)\n",
      "added edge from 130195 : (-469025.6336910167, 1245073.1393598316) to 268628 : (-469023.956192903, 1245074.6706769322)\n",
      "added edge from 64707 : (-404466.58427937684, 1113788.7204836898) to 19965 : (-404467.5643552014, 1113786.0379454484)\n",
      "added edge from 159916 : (-415149.1802666219, 1209363.3510993754) to 11678 : (-415147.1179294732, 1209363.825992552)\n",
      "added edge from 193001 : (-597301.8262366866, 1230931.7572156377) to 271770 : (-597303.2911155764, 1230930.0743172225)\n",
      "42\n",
      "41\n",
      "43\n",
      "CPU times: user 7.03 s, sys: 3.84 s, total: 10.9 s\n",
      "Wall time: 13min 5s\n"
     ]
    }
   ],
   "source": [
    "%%time\n",
    "l = [1,2,3]\n",
    "pl = Pool(8)\n",
    "threshold=3.0\n",
    "pl.map(add_missing_edges_p, parallel_keys)\n",
    "pl.map(dummy, [1,2,3])\n",
    "pl.close()\n",
    "pl.join()"
   ]
  },
  {
   "cell_type": "code",
   "execution_count": 193,
   "metadata": {
    "collapsed": true
   },
   "outputs": [],
   "source": [
    "# create a test situaton to assure parallel version is working right\n",
    "test = nx.DiGraph()\n",
    "test.add_nodes_from([(1,2),(3,4),(5,6),(1.2,2.2),(3.2,4.2),(5.2,6.2)])\n",
    "test.add_edges_from([((1,2),(3,4)),((3,4),(5,6)),((5,6),(5.2,6.2)),((1.2,2.2),(3.2,4.2))])"
   ]
  },
  {
   "cell_type": "code",
   "execution_count": 194,
   "metadata": {},
   "outputs": [
    {
     "data": {
      "text/plain": [
       "<matplotlib.collections.LineCollection at 0x182926550>"
      ]
     },
     "execution_count": 194,
     "metadata": {},
     "output_type": "execute_result"
    },
    {
     "data": {
      "image/png": "[encoded data removed]",
      "text/plain": [
       "<matplotlib.figure.Figure at 0x178b71f50>"
      ]
     },
     "metadata": {},
     "output_type": "display_data"
    }
   ],
   "source": [
    "nx.draw_networkx_edges(test,pos=nx.spring_layout(test))"
   ]
  },
  {
   "cell_type": "code",
   "execution_count": 195,
   "metadata": {},
   "outputs": [
    {
     "name": "stdout",
     "output_type": "stream",
     "text": [
      "[[(1, 2) 1]\n",
      " [(3.2, 4.2) 0]\n",
      " [(5.2, 6.2) 0]\n",
      " [(5, 6) 1]\n",
      " [(1.2, 2.2) 1]\n",
      " [(3, 4) 1]]\n",
      "[False  True  True False False False]\n",
      "{(1, 2): 1, (3.2, 4.2): 0, (5.2, 6.2): 0, (5, 6): 1, (1.2, 2.2): 1, (3, 4): 1}\n",
      "1\n",
      "2\n",
      "{0: (0, (1, 2)), 1: (1, (3.2, 4.2)), 2: (2, (5.2, 6.2)), 3: (3, (5, 6)), 4: (4, (1.2, 2.2)), 5: (5, (3, 4))}\n"
     ]
    }
   ],
   "source": [
    "allnodes=test.nodes()\n",
    "allnodesiter = {}\n",
    "for i in range(0, len(allnodes)):\n",
    "    allnodesiter[i]=(i,allnodes[i])\n",
    "    \n",
    "test_ends = deadends(test,allnodesiter)\n",
    "print allnodesiter"
   ]
  },
  {
   "cell_type": "code",
   "execution_count": 196,
   "metadata": {},
   "outputs": [
    {
     "name": "stdout",
     "output_type": "stream",
     "text": [
      "4\n",
      "[1, 2]\n"
     ]
    }
   ],
   "source": [
    "print test.number_of_edges()\n",
    "pkeys=test_ends.keys()\n",
    "print pkeys\n"
   ]
  },
  {
   "cell_type": "code",
   "execution_count": 197,
   "metadata": {},
   "outputs": [
    {
     "name": "stdout",
     "output_type": "stream",
     "text": [
      "4\n",
      "4\n",
      "5\n",
      "5\n",
      "added edge from 2 : (5.2, 6.2) to 1 : (3.2, 4.2)\n",
      "added edge from 1 : (3.2, 4.2) to 2 : (5.2, 6.2)\n",
      "42\n",
      "43\n",
      "41\n",
      "CPU times: user 25.5 ms, sys: 86.3 ms, total: 112 ms\n",
      "Wall time: 210 ms\n"
     ]
    }
   ],
   "source": [
    "%%time\n",
    "l = [1,2,3]\n",
    "pl = Pool(8)\n",
    "threshold=3.0\n",
    "pl.map(add_missing_edges_p, pkeys)\n",
    "pl.map(dummy, [1,2,3])\n",
    "pl.close()\n",
    "pl.join()"
   ]
  },
  {
   "cell_type": "code",
   "execution_count": 198,
   "metadata": {},
   "outputs": [
    {
     "data": {
      "text/plain": [
       "<matplotlib.collections.LineCollection at 0x182a31fd0>"
      ]
     },
     "execution_count": 198,
     "metadata": {},
     "output_type": "execute_result"
    },
    {
     "data": {
      "image/png": "[encoded data removed]",
      "text/plain": [
       "<matplotlib.figure.Figure at 0x18293ec10>"
      ]
     },
     "metadata": {},
     "output_type": "display_data"
    }
   ],
   "source": [
    "nx.draw_networkx_edges(test,pos=nx.spring_layout(test))"
   ]
  },
  {
   "cell_type": "code",
   "execution_count": 199,
   "metadata": {},
   "outputs": [
    {
     "data": {
      "text/plain": [
       "4"
      ]
     },
     "execution_count": 199,
     "metadata": {},
     "output_type": "execute_result"
    }
   ],
   "source": [
    "test.number_of_edges()"
   ]
  },
  {
   "cell_type": "code",
   "execution_count": 192,
   "metadata": {
    "collapsed": true
   },
   "outputs": [],
   "source": [
    "def add_missing_edges_p(key1):\n",
    "    node1 = allnodesiter[key1][1]\n",
    "    for i in range(0,len(allnodesiter)):\n",
    "        node2=allnodesiter[i][1]\n",
    "        key2=allnodesiter[i][0]\n",
    "        xd = node1[0] - node2[0]\n",
    "        yd = node1[1] - node2[1]\n",
    "        dist = np.sqrt((xd*xd + yd*yd))\n",
    "        if key1 != key2 and dist < threshold and dist > 0:\n",
    "            print test.number_of_edges()\n",
    "            test.add_edge(key1, key2)\n",
    "            print test.number_of_edges()\n",
    "            print(\"added edge from \"+str(key1)+\" : \"+str(node1)+\" to \"+ str(key2)+\" : \"+str(node2))\n",
    "            break\n",
    "    "
   ]
  },
  {
   "cell_type": "code",
   "execution_count": 70,
   "metadata": {
    "collapsed": true
   },
   "outputs": [],
   "source": [
    "def dummy(kt):\n",
    "    kt = kt+40\n",
    "    print(kt)"
   ]
  },
  {
   "cell_type": "code",
   "execution_count": 57,
   "metadata": {
    "collapsed": true
   },
   "outputs": [],
   "source": [
    "\n",
    "cnt = 0\n",
    "allnodes = allnodesdict\n",
    "graph = g_ID\n",
    "threshold = 5.0\n",
    "    \n",
    "for key1, node1 in deadends.iteritems():\n",
    "    if cnt%100==0:\n",
    "        print(\"itr \"+str(key1))\n",
    "    cnt = cnt + 1\n",
    "    for key2, node2 in allnodes.iteritems():\n",
    "        #print node1\n",
    "        xd = node1[0] - node2[0]\n",
    "        yd = node1[1] - node2[1]\n",
    "        dist = np.sqrt((xd*xd + yd*yd))\n",
    "            \n",
    "        if key1 != key2 and dist < threshold and dist > 0:\n",
    "            graph.add_edge(key1, key2)\n",
    "            print(\"added edge from \"+str(key1)+\" : \"+str(node1)+\" to \"+ str(key2)+\" : \"+str(node2))\n",
    "            break"
   ]
  },
  {
   "cell_type": "markdown",
   "metadata": {},
   "source": [
    "### get some stats on the snapped network"
   ]
  },
  {
   "cell_type": "code",
   "execution_count": 88,
   "metadata": {
    "collapsed": true
   },
   "outputs": [],
   "source": [
    "kusko_g_snapped = GraphBuilder.GraphBuilder('../../data/sasap/kusko_region_flowlines_snap.shp')"
   ]
  },
  {
   "cell_type": "code",
   "execution_count": 89,
   "metadata": {},
   "outputs": [
    {
     "name": "stdout",
     "output_type": "stream",
     "text": [
      "RiverGraph\n"
     ]
    }
   ],
   "source": [
    "g_ID_snapped = kusko_g_snapped.graph.copy()\n",
    "print type(g_ID_snapped).__name__    "
   ]
  },
  {
   "cell_type": "code",
   "execution_count": 90,
   "metadata": {},
   "outputs": [
    {
     "name": "stdout",
     "output_type": "stream",
     "text": [
      "(-71704.67681649092, 1377383.849704166)\n",
      "0\n"
     ]
    }
   ],
   "source": [
    "keys = g_ID_snapped.nodes()\n",
    "d = g_ID_snapped.number_of_nodes()\n",
    "attr_dict = {}\n",
    "i = 0\n",
    "for node in keys:\n",
    "    attr_dict[node] = i\n",
    "    i = i + 1\n",
    "nx.set_node_attributes(g_ID_snapped, 'ID', attr_dict)\n",
    "ids = nx.get_node_attributes(g_ID_snapped, 'ID')\n",
    "for key,value in ids.iteritems():\n",
    "    print key \n",
    "    print value\n",
    "    break"
   ]
  },
  {
   "cell_type": "code",
   "execution_count": 110,
   "metadata": {},
   "outputs": [
    {
     "name": "stdout",
     "output_type": "stream",
     "text": [
      "5552\n",
      "5551\n"
     ]
    }
   ],
   "source": [
    "print nx.number_weakly_connected_components(g_ID)\n",
    "print nx.number_weakly_connected_components(g_ID_snapped)"
   ]
  },
  {
   "cell_type": "code",
   "execution_count": 111,
   "metadata": {},
   "outputs": [
    {
     "name": "stdout",
     "output_type": "stream",
     "text": [
      "5548\n",
      "5548\n"
     ]
    }
   ],
   "source": [
    "print nx.number_weakly_connected_components(kusko_g.graph)\n",
    "print  nx.number_weakly_connected_components(kusko_g_snapped.graph)"
   ]
  },
  {
   "cell_type": "code",
   "execution_count": 112,
   "metadata": {},
   "outputs": [
    {
     "name": "stdout",
     "output_type": "stream",
     "text": [
      "False\n",
      "False\n"
     ]
    }
   ],
   "source": [
    "print nx.is_weakly_connected(g_ID)\n",
    "print nx.is_weakly_connected(g_ID_snapped)"
   ]
  },
  {
   "cell_type": "code",
   "execution_count": 113,
   "metadata": {},
   "outputs": [
    {
     "name": "stdout",
     "output_type": "stream",
     "text": [
      "False\n",
      "False\n"
     ]
    }
   ],
   "source": [
    "print nx.is_weakly_connected(kusko_g.graph)\n",
    "print nx.is_weakly_connected(kusko_g_snapped.graph)"
   ]
  },
  {
   "cell_type": "code",
   "execution_count": 114,
   "metadata": {},
   "outputs": [
    {
     "name": "stdout",
     "output_type": "stream",
     "text": [
      "False\n",
      "False\n"
     ]
    }
   ],
   "source": [
    "print nx.is_semiconnected(g_ID)\n",
    "print nx.is_semiconnected(g_ID_snapped)"
   ]
  },
  {
   "cell_type": "code",
   "execution_count": 115,
   "metadata": {},
   "outputs": [
    {
     "name": "stdout",
     "output_type": "stream",
     "text": [
      "False\n",
      "False\n"
     ]
    }
   ],
   "source": [
    "print nx.is_semiconnected(kusko_g.graph)\n",
    "print nx.is_semiconnected(kusko_g_snapped.graph)"
   ]
  },
  {
   "cell_type": "code",
   "execution_count": 116,
   "metadata": {},
   "outputs": [
    {
     "name": "stdout",
     "output_type": "stream",
     "text": [
      "284701\n",
      "284690\n"
     ]
    }
   ],
   "source": [
    "print g_ID.number_of_edges()\n",
    "print g_ID_snapped.number_of_edges()"
   ]
  },
  {
   "cell_type": "code",
   "execution_count": 99,
   "metadata": {},
   "outputs": [
    {
     "name": "stdout",
     "output_type": "stream",
     "text": [
      "284697\n",
      "284687\n"
     ]
    }
   ],
   "source": [
    "print kusko_g.graph.number_of_edges()\n",
    "print kusko_g_snapped.graph.number_of_edges()"
   ]
  },
  {
   "cell_type": "code",
   "execution_count": 117,
   "metadata": {
    "collapsed": true
   },
   "outputs": [],
   "source": [
    "tmp_g = g_ID.to_undirected()\n",
    "tmp_g_s = g_ID_snapped.to_undirected()"
   ]
  },
  {
   "cell_type": "code",
   "execution_count": 118,
   "metadata": {
    "collapsed": true
   },
   "outputs": [],
   "source": [
    "tmp_k = kusko_g.graph.to_undirected()\n",
    "tmp_k_s = kusko_g.graph.to_undirected()\n"
   ]
  },
  {
   "cell_type": "code",
   "execution_count": 119,
   "metadata": {},
   "outputs": [
    {
     "name": "stdout",
     "output_type": "stream",
     "text": [
      "False\n",
      "False\n",
      "False\n",
      "False\n"
     ]
    }
   ],
   "source": [
    "print nx.is_connected(tmp_g)\n",
    "print nx.is_connected(tmp_k)\n",
    "print nx.is_connected(tmp_g_s)\n",
    "print nx.is_connected(tmp_k_s)"
   ]
  },
  {
   "cell_type": "code",
   "execution_count": 104,
   "metadata": {
    "collapsed": true
   },
   "outputs": [],
   "source": [
    "NODELIST_snapped = kusko_g_snapped.graph.nodes()"
   ]
  },
  {
   "cell_type": "markdown",
   "metadata": {},
   "source": [
    "## some visualizations with geopandas"
   ]
  },
  {
   "cell_type": "code",
   "execution_count": 80,
   "metadata": {
    "collapsed": true
   },
   "outputs": [],
   "source": [
    "orig = gpd.read_file('../../data/sasap/kusko_region_flowlines.shp')"
   ]
  },
  {
   "cell_type": "code",
   "execution_count": null,
   "metadata": {
    "collapsed": true
   },
   "outputs": [],
   "source": []
  }
 ],
 "metadata": {
  "kernelspec": {
   "display_name": "Python 2",
   "language": "python",
   "name": "python2"
  },
  "language_info": {
   "codemirror_mode": {
    "name": "ipython",
    "version": 2
   },
   "file_extension": ".py",
   "mimetype": "text/x-python",
   "name": "python",
   "nbconvert_exporter": "python",
   "pygments_lexer": "ipython2",
   "version": "2.7.13"
  }
 },
 "nbformat": 4,
 "nbformat_minor": 2
}
